{
 "cells": [
  {
   "cell_type": "code",
   "execution_count": 1,
   "id": "59b3d144",
   "metadata": {
    "_cell_guid": "b1076dfc-b9ad-4769-8c92-a6c4dae69d19",
    "_uuid": "8f2839f25d086af736a60e9eeb907d3b93b6e0e5",
    "execution": {
     "iopub.execute_input": "2025-01-09T13:37:55.575490Z",
     "iopub.status.busy": "2025-01-09T13:37:55.575144Z",
     "iopub.status.idle": "2025-01-09T13:37:56.181504Z",
     "shell.execute_reply": "2025-01-09T13:37:56.180794Z"
    },
    "papermill": {
     "duration": 0.614662,
     "end_time": "2025-01-09T13:37:56.183079",
     "exception": false,
     "start_time": "2025-01-09T13:37:55.568417",
     "status": "completed"
    },
    "tags": []
   },
   "outputs": [],
   "source": [
    "import numpy as np # linear algebra\n",
    "import pandas as pd # data processing, CSV file I/O (e.g. pd.read_csv)\n",
    "\n",
    "# Input data files are available in the read-only \"../input/\" directory\n",
    "# For example, running this (by clicking run or pressing Shift+Enter) will list all files under the input directory\n",
    "\n",
    "import os"
   ]
  },
  {
   "cell_type": "markdown",
   "id": "967b223b",
   "metadata": {
    "papermill": {
     "duration": 0.004503,
     "end_time": "2025-01-09T13:37:56.193204",
     "exception": false,
     "start_time": "2025-01-09T13:37:56.188701",
     "status": "completed"
    },
    "tags": []
   },
   "source": [
    "# I. Load Dataset"
   ]
  },
  {
   "cell_type": "code",
   "execution_count": 2,
   "id": "81e020b6",
   "metadata": {
    "execution": {
     "iopub.execute_input": "2025-01-09T13:37:56.203487Z",
     "iopub.status.busy": "2025-01-09T13:37:56.203074Z",
     "iopub.status.idle": "2025-01-09T13:37:56.605715Z",
     "shell.execute_reply": "2025-01-09T13:37:56.604891Z"
    },
    "papermill": {
     "duration": 0.409252,
     "end_time": "2025-01-09T13:37:56.607080",
     "exception": false,
     "start_time": "2025-01-09T13:37:56.197828",
     "status": "completed"
    },
    "tags": []
   },
   "outputs": [
    {
     "data": {
      "text/plain": [
       "(          id    list_id      list_time  manufacture_date   brand  model  \\\n",
       " 0  148468232  108616925  1693378633111              1980    Jeep     A2   \n",
       " 1  149864917  109805135  1694308247000              2021   Honda   City   \n",
       " 2  149580046  109560282  1693462201000              2016     Kia    Rio   \n",
       " 3  148601679  108727914  1693493126176              2020  Toyota   Vios   \n",
       " 4  149530234  109517456  1693313503000              2001    Fiat  Siena   \n",
       " \n",
       "      origin              type  seats gearbox    fuel  color  mileage_v2  \\\n",
       " 0        Mỹ  SUV / Cross over    4.0      MT  petrol  green       40000   \n",
       " 1  Nhật Bản             Sedan    5.0      AT  petrol  white       23000   \n",
       " 2  Hàn Quốc             Sedan    5.0      AT  petrol  white       78545   \n",
       " 3  Việt Nam             Sedan    5.0      MT  petrol  white       99999   \n",
       " 4  Việt Nam             Sedan    5.0      MT  petrol  white      200000   \n",
       " \n",
       "          price condition  \n",
       " 0  380000000.0      used  \n",
       " 1  455000000.0      used  \n",
       " 2  295000000.0      used  \n",
       " 3  368000000.0      used  \n",
       " 4   73000000.0      used  ,\n",
       " Index(['id', 'list_id', 'list_time', 'manufacture_date', 'brand', 'model',\n",
       "        'origin', 'type', 'seats', 'gearbox', 'fuel', 'color', 'mileage_v2',\n",
       "        'price', 'condition'],\n",
       "       dtype='object'))"
      ]
     },
     "execution_count": 2,
     "metadata": {},
     "output_type": "execute_result"
    }
   ],
   "source": [
    "file_path = \"/kaggle/input/vucar-handle-missing-value/handled_missing.csv\"\n",
    "df = pd.read_csv(file_path)\n",
    "\n",
    "df.head(), df.columns"
   ]
  },
  {
   "cell_type": "markdown",
   "id": "744a229f",
   "metadata": {
    "papermill": {
     "duration": 0.004713,
     "end_time": "2025-01-09T13:37:56.617089",
     "exception": false,
     "start_time": "2025-01-09T13:37:56.612376",
     "status": "completed"
    },
    "tags": []
   },
   "source": [
    "## 1. Filter brands that make up 90% of the total cars"
   ]
  },
  {
   "cell_type": "code",
   "execution_count": 3,
   "id": "e6a295c4",
   "metadata": {
    "execution": {
     "iopub.execute_input": "2025-01-09T13:37:56.627636Z",
     "iopub.status.busy": "2025-01-09T13:37:56.627356Z",
     "iopub.status.idle": "2025-01-09T13:37:56.642117Z",
     "shell.execute_reply": "2025-01-09T13:37:56.641327Z"
    },
    "papermill": {
     "duration": 0.0213,
     "end_time": "2025-01-09T13:37:56.643251",
     "exception": false,
     "start_time": "2025-01-09T13:37:56.621951",
     "status": "completed"
    },
    "tags": []
   },
   "outputs": [],
   "source": [
    "brand_counts = df['brand'].value_counts()\n",
    "\n",
    "total_cars = brand_counts.sum()\n",
    "cumulative_percentage = (brand_counts.cumsum() / total_cars) * 100"
   ]
  },
  {
   "cell_type": "code",
   "execution_count": 4,
   "id": "3182afb4",
   "metadata": {
    "execution": {
     "iopub.execute_input": "2025-01-09T13:37:56.653784Z",
     "iopub.status.busy": "2025-01-09T13:37:56.653539Z",
     "iopub.status.idle": "2025-01-09T13:37:56.661292Z",
     "shell.execute_reply": "2025-01-09T13:37:56.660504Z"
    },
    "papermill": {
     "duration": 0.014313,
     "end_time": "2025-01-09T13:37:56.662538",
     "exception": false,
     "start_time": "2025-01-09T13:37:56.648225",
     "status": "completed"
    },
    "tags": []
   },
   "outputs": [
    {
     "data": {
      "text/plain": [
       "(12,\n",
       " brand\n",
       " Toyota           17149\n",
       " Ford              9978\n",
       " Kia               9654\n",
       " Hyundai           9470\n",
       " Mercedes Benz     4950\n",
       " Mitsubishi        4926\n",
       " Mazda             4652\n",
       " Honda             4199\n",
       " Chevrolet         2970\n",
       " Vinfast           2363\n",
       " Suzuki            1677\n",
       " Daewoo            1144\n",
       " Name: count, dtype: int64)"
      ]
     },
     "execution_count": 4,
     "metadata": {},
     "output_type": "execute_result"
    }
   ],
   "source": [
    "brands_90_percent = cumulative_percentage[cumulative_percentage <= 90].index.tolist()\n",
    "\n",
    "num_selected_brands = len(brands_90_percent)\n",
    "top_brands_summary = brand_counts[brands_90_percent]\n",
    "\n",
    "num_selected_brands, top_brands_summary"
   ]
  },
  {
   "cell_type": "code",
   "execution_count": 5,
   "id": "cc991676",
   "metadata": {
    "execution": {
     "iopub.execute_input": "2025-01-09T13:37:56.672915Z",
     "iopub.status.busy": "2025-01-09T13:37:56.672683Z",
     "iopub.status.idle": "2025-01-09T13:37:56.697034Z",
     "shell.execute_reply": "2025-01-09T13:37:56.696224Z"
    },
    "papermill": {
     "duration": 0.030896,
     "end_time": "2025-01-09T13:37:56.698351",
     "exception": false,
     "start_time": "2025-01-09T13:37:56.667455",
     "status": "completed"
    },
    "tags": []
   },
   "outputs": [
    {
     "data": {
      "text/html": [
       "<div>\n",
       "<style scoped>\n",
       "    .dataframe tbody tr th:only-of-type {\n",
       "        vertical-align: middle;\n",
       "    }\n",
       "\n",
       "    .dataframe tbody tr th {\n",
       "        vertical-align: top;\n",
       "    }\n",
       "\n",
       "    .dataframe thead th {\n",
       "        text-align: right;\n",
       "    }\n",
       "</style>\n",
       "<table border=\"1\" class=\"dataframe\">\n",
       "  <thead>\n",
       "    <tr style=\"text-align: right;\">\n",
       "      <th></th>\n",
       "      <th>id</th>\n",
       "      <th>list_id</th>\n",
       "      <th>list_time</th>\n",
       "      <th>manufacture_date</th>\n",
       "      <th>brand</th>\n",
       "      <th>model</th>\n",
       "      <th>origin</th>\n",
       "      <th>type</th>\n",
       "      <th>seats</th>\n",
       "      <th>gearbox</th>\n",
       "      <th>fuel</th>\n",
       "      <th>color</th>\n",
       "      <th>mileage_v2</th>\n",
       "      <th>price</th>\n",
       "      <th>condition</th>\n",
       "    </tr>\n",
       "  </thead>\n",
       "  <tbody>\n",
       "    <tr>\n",
       "      <th>1</th>\n",
       "      <td>149864917</td>\n",
       "      <td>109805135</td>\n",
       "      <td>1694308247000</td>\n",
       "      <td>2021</td>\n",
       "      <td>Honda</td>\n",
       "      <td>City</td>\n",
       "      <td>Nhật Bản</td>\n",
       "      <td>Sedan</td>\n",
       "      <td>5.0</td>\n",
       "      <td>AT</td>\n",
       "      <td>petrol</td>\n",
       "      <td>white</td>\n",
       "      <td>23000</td>\n",
       "      <td>455000000.0</td>\n",
       "      <td>used</td>\n",
       "    </tr>\n",
       "    <tr>\n",
       "      <th>2</th>\n",
       "      <td>149580046</td>\n",
       "      <td>109560282</td>\n",
       "      <td>1693462201000</td>\n",
       "      <td>2016</td>\n",
       "      <td>Kia</td>\n",
       "      <td>Rio</td>\n",
       "      <td>Hàn Quốc</td>\n",
       "      <td>Sedan</td>\n",
       "      <td>5.0</td>\n",
       "      <td>AT</td>\n",
       "      <td>petrol</td>\n",
       "      <td>white</td>\n",
       "      <td>78545</td>\n",
       "      <td>295000000.0</td>\n",
       "      <td>used</td>\n",
       "    </tr>\n",
       "    <tr>\n",
       "      <th>3</th>\n",
       "      <td>148601679</td>\n",
       "      <td>108727914</td>\n",
       "      <td>1693493126176</td>\n",
       "      <td>2020</td>\n",
       "      <td>Toyota</td>\n",
       "      <td>Vios</td>\n",
       "      <td>Việt Nam</td>\n",
       "      <td>Sedan</td>\n",
       "      <td>5.0</td>\n",
       "      <td>MT</td>\n",
       "      <td>petrol</td>\n",
       "      <td>white</td>\n",
       "      <td>99999</td>\n",
       "      <td>368000000.0</td>\n",
       "      <td>used</td>\n",
       "    </tr>\n",
       "    <tr>\n",
       "      <th>5</th>\n",
       "      <td>148583720</td>\n",
       "      <td>108712558</td>\n",
       "      <td>1694932494416</td>\n",
       "      <td>2022</td>\n",
       "      <td>Hyundai</td>\n",
       "      <td>Elantra</td>\n",
       "      <td>Việt Nam</td>\n",
       "      <td>Sedan</td>\n",
       "      <td>5.0</td>\n",
       "      <td>AT</td>\n",
       "      <td>petrol</td>\n",
       "      <td>white</td>\n",
       "      <td>45000</td>\n",
       "      <td>455000000.0</td>\n",
       "      <td>used</td>\n",
       "    </tr>\n",
       "    <tr>\n",
       "      <th>6</th>\n",
       "      <td>150061598</td>\n",
       "      <td>109974620</td>\n",
       "      <td>1694955795249</td>\n",
       "      <td>2018</td>\n",
       "      <td>Toyota</td>\n",
       "      <td>Innova</td>\n",
       "      <td>Việt Nam</td>\n",
       "      <td>SUV / Cross over</td>\n",
       "      <td>8.0</td>\n",
       "      <td>MT</td>\n",
       "      <td>petrol</td>\n",
       "      <td>white</td>\n",
       "      <td>60000</td>\n",
       "      <td>485000000.0</td>\n",
       "      <td>used</td>\n",
       "    </tr>\n",
       "  </tbody>\n",
       "</table>\n",
       "</div>"
      ],
      "text/plain": [
       "          id    list_id      list_time  manufacture_date    brand    model  \\\n",
       "1  149864917  109805135  1694308247000              2021    Honda     City   \n",
       "2  149580046  109560282  1693462201000              2016      Kia      Rio   \n",
       "3  148601679  108727914  1693493126176              2020   Toyota     Vios   \n",
       "5  148583720  108712558  1694932494416              2022  Hyundai  Elantra   \n",
       "6  150061598  109974620  1694955795249              2018   Toyota   Innova   \n",
       "\n",
       "     origin              type  seats gearbox    fuel  color  mileage_v2  \\\n",
       "1  Nhật Bản             Sedan    5.0      AT  petrol  white       23000   \n",
       "2  Hàn Quốc             Sedan    5.0      AT  petrol  white       78545   \n",
       "3  Việt Nam             Sedan    5.0      MT  petrol  white       99999   \n",
       "5  Việt Nam             Sedan    5.0      AT  petrol  white       45000   \n",
       "6  Việt Nam  SUV / Cross over    8.0      MT  petrol  white       60000   \n",
       "\n",
       "         price condition  \n",
       "1  455000000.0      used  \n",
       "2  295000000.0      used  \n",
       "3  368000000.0      used  \n",
       "5  455000000.0      used  \n",
       "6  485000000.0      used  "
      ]
     },
     "execution_count": 5,
     "metadata": {},
     "output_type": "execute_result"
    }
   ],
   "source": [
    "df = df[df['brand'].isin(brands_90_percent)]\n",
    "\n",
    "df.head()"
   ]
  },
  {
   "cell_type": "markdown",
   "id": "7bb1df58",
   "metadata": {
    "papermill": {
     "duration": 0.005545,
     "end_time": "2025-01-09T13:37:56.709736",
     "exception": false,
     "start_time": "2025-01-09T13:37:56.704191",
     "status": "completed"
    },
    "tags": []
   },
   "source": [
    "## 2. Filter only used car"
   ]
  },
  {
   "cell_type": "code",
   "execution_count": 6,
   "id": "296491ae",
   "metadata": {
    "execution": {
     "iopub.execute_input": "2025-01-09T13:37:56.721045Z",
     "iopub.status.busy": "2025-01-09T13:37:56.720776Z",
     "iopub.status.idle": "2025-01-09T13:37:57.026259Z",
     "shell.execute_reply": "2025-01-09T13:37:57.025569Z"
    },
    "papermill": {
     "duration": 0.312937,
     "end_time": "2025-01-09T13:37:57.027838",
     "exception": false,
     "start_time": "2025-01-09T13:37:56.714901",
     "status": "completed"
    },
    "tags": []
   },
   "outputs": [],
   "source": [
    "used_cars_df = df[df['condition'] == 'used']\n",
    "\n",
    "output_path = \"/kaggle/working/used_car.csv\"\n",
    "used_cars_df.to_csv(output_path, index=False)"
   ]
  },
  {
   "cell_type": "code",
   "execution_count": 7,
   "id": "11e6dc75",
   "metadata": {
    "execution": {
     "iopub.execute_input": "2025-01-09T13:37:57.039439Z",
     "iopub.status.busy": "2025-01-09T13:37:57.039136Z",
     "iopub.status.idle": "2025-01-09T13:37:57.052222Z",
     "shell.execute_reply": "2025-01-09T13:37:57.051435Z"
    },
    "papermill": {
     "duration": 0.020215,
     "end_time": "2025-01-09T13:37:57.053627",
     "exception": false,
     "start_time": "2025-01-09T13:37:57.033412",
     "status": "completed"
    },
    "tags": []
   },
   "outputs": [
    {
     "name": "stdout",
     "output_type": "stream",
     "text": [
      "(64786, 15)\n"
     ]
    },
    {
     "data": {
      "text/html": [
       "<div>\n",
       "<style scoped>\n",
       "    .dataframe tbody tr th:only-of-type {\n",
       "        vertical-align: middle;\n",
       "    }\n",
       "\n",
       "    .dataframe tbody tr th {\n",
       "        vertical-align: top;\n",
       "    }\n",
       "\n",
       "    .dataframe thead th {\n",
       "        text-align: right;\n",
       "    }\n",
       "</style>\n",
       "<table border=\"1\" class=\"dataframe\">\n",
       "  <thead>\n",
       "    <tr style=\"text-align: right;\">\n",
       "      <th></th>\n",
       "      <th>id</th>\n",
       "      <th>list_id</th>\n",
       "      <th>list_time</th>\n",
       "      <th>manufacture_date</th>\n",
       "      <th>brand</th>\n",
       "      <th>model</th>\n",
       "      <th>origin</th>\n",
       "      <th>type</th>\n",
       "      <th>seats</th>\n",
       "      <th>gearbox</th>\n",
       "      <th>fuel</th>\n",
       "      <th>color</th>\n",
       "      <th>mileage_v2</th>\n",
       "      <th>price</th>\n",
       "      <th>condition</th>\n",
       "    </tr>\n",
       "  </thead>\n",
       "  <tbody>\n",
       "    <tr>\n",
       "      <th>1</th>\n",
       "      <td>149864917</td>\n",
       "      <td>109805135</td>\n",
       "      <td>1694308247000</td>\n",
       "      <td>2021</td>\n",
       "      <td>Honda</td>\n",
       "      <td>City</td>\n",
       "      <td>Nhật Bản</td>\n",
       "      <td>Sedan</td>\n",
       "      <td>5.0</td>\n",
       "      <td>AT</td>\n",
       "      <td>petrol</td>\n",
       "      <td>white</td>\n",
       "      <td>23000</td>\n",
       "      <td>455000000.0</td>\n",
       "      <td>used</td>\n",
       "    </tr>\n",
       "    <tr>\n",
       "      <th>2</th>\n",
       "      <td>149580046</td>\n",
       "      <td>109560282</td>\n",
       "      <td>1693462201000</td>\n",
       "      <td>2016</td>\n",
       "      <td>Kia</td>\n",
       "      <td>Rio</td>\n",
       "      <td>Hàn Quốc</td>\n",
       "      <td>Sedan</td>\n",
       "      <td>5.0</td>\n",
       "      <td>AT</td>\n",
       "      <td>petrol</td>\n",
       "      <td>white</td>\n",
       "      <td>78545</td>\n",
       "      <td>295000000.0</td>\n",
       "      <td>used</td>\n",
       "    </tr>\n",
       "    <tr>\n",
       "      <th>3</th>\n",
       "      <td>148601679</td>\n",
       "      <td>108727914</td>\n",
       "      <td>1693493126176</td>\n",
       "      <td>2020</td>\n",
       "      <td>Toyota</td>\n",
       "      <td>Vios</td>\n",
       "      <td>Việt Nam</td>\n",
       "      <td>Sedan</td>\n",
       "      <td>5.0</td>\n",
       "      <td>MT</td>\n",
       "      <td>petrol</td>\n",
       "      <td>white</td>\n",
       "      <td>99999</td>\n",
       "      <td>368000000.0</td>\n",
       "      <td>used</td>\n",
       "    </tr>\n",
       "    <tr>\n",
       "      <th>5</th>\n",
       "      <td>148583720</td>\n",
       "      <td>108712558</td>\n",
       "      <td>1694932494416</td>\n",
       "      <td>2022</td>\n",
       "      <td>Hyundai</td>\n",
       "      <td>Elantra</td>\n",
       "      <td>Việt Nam</td>\n",
       "      <td>Sedan</td>\n",
       "      <td>5.0</td>\n",
       "      <td>AT</td>\n",
       "      <td>petrol</td>\n",
       "      <td>white</td>\n",
       "      <td>45000</td>\n",
       "      <td>455000000.0</td>\n",
       "      <td>used</td>\n",
       "    </tr>\n",
       "    <tr>\n",
       "      <th>6</th>\n",
       "      <td>150061598</td>\n",
       "      <td>109974620</td>\n",
       "      <td>1694955795249</td>\n",
       "      <td>2018</td>\n",
       "      <td>Toyota</td>\n",
       "      <td>Innova</td>\n",
       "      <td>Việt Nam</td>\n",
       "      <td>SUV / Cross over</td>\n",
       "      <td>8.0</td>\n",
       "      <td>MT</td>\n",
       "      <td>petrol</td>\n",
       "      <td>white</td>\n",
       "      <td>60000</td>\n",
       "      <td>485000000.0</td>\n",
       "      <td>used</td>\n",
       "    </tr>\n",
       "  </tbody>\n",
       "</table>\n",
       "</div>"
      ],
      "text/plain": [
       "          id    list_id      list_time  manufacture_date    brand    model  \\\n",
       "1  149864917  109805135  1694308247000              2021    Honda     City   \n",
       "2  149580046  109560282  1693462201000              2016      Kia      Rio   \n",
       "3  148601679  108727914  1693493126176              2020   Toyota     Vios   \n",
       "5  148583720  108712558  1694932494416              2022  Hyundai  Elantra   \n",
       "6  150061598  109974620  1694955795249              2018   Toyota   Innova   \n",
       "\n",
       "     origin              type  seats gearbox    fuel  color  mileage_v2  \\\n",
       "1  Nhật Bản             Sedan    5.0      AT  petrol  white       23000   \n",
       "2  Hàn Quốc             Sedan    5.0      AT  petrol  white       78545   \n",
       "3  Việt Nam             Sedan    5.0      MT  petrol  white       99999   \n",
       "5  Việt Nam             Sedan    5.0      AT  petrol  white       45000   \n",
       "6  Việt Nam  SUV / Cross over    8.0      MT  petrol  white       60000   \n",
       "\n",
       "         price condition  \n",
       "1  455000000.0      used  \n",
       "2  295000000.0      used  \n",
       "3  368000000.0      used  \n",
       "5  455000000.0      used  \n",
       "6  485000000.0      used  "
      ]
     },
     "execution_count": 7,
     "metadata": {},
     "output_type": "execute_result"
    }
   ],
   "source": [
    "print(used_cars_df.shape)\n",
    "used_cars_df.head()"
   ]
  },
  {
   "cell_type": "code",
   "execution_count": 8,
   "id": "b7340913",
   "metadata": {
    "execution": {
     "iopub.execute_input": "2025-01-09T13:37:57.065517Z",
     "iopub.status.busy": "2025-01-09T13:37:57.065267Z",
     "iopub.status.idle": "2025-01-09T13:37:57.074719Z",
     "shell.execute_reply": "2025-01-09T13:37:57.074098Z"
    },
    "papermill": {
     "duration": 0.016455,
     "end_time": "2025-01-09T13:37:57.075948",
     "exception": false,
     "start_time": "2025-01-09T13:37:57.059493",
     "status": "completed"
    },
    "tags": []
   },
   "outputs": [],
   "source": [
    "X = used_cars_df.drop(columns=['price', \"id\", 'list_id', \"condition\"])  \n",
    "y = used_cars_df['price']"
   ]
  },
  {
   "cell_type": "code",
   "execution_count": 9,
   "id": "f2061b03",
   "metadata": {
    "execution": {
     "iopub.execute_input": "2025-01-09T13:37:57.087766Z",
     "iopub.status.busy": "2025-01-09T13:37:57.087530Z",
     "iopub.status.idle": "2025-01-09T13:37:57.098102Z",
     "shell.execute_reply": "2025-01-09T13:37:57.097380Z"
    },
    "papermill": {
     "duration": 0.018113,
     "end_time": "2025-01-09T13:37:57.099643",
     "exception": false,
     "start_time": "2025-01-09T13:37:57.081530",
     "status": "completed"
    },
    "tags": []
   },
   "outputs": [
    {
     "data": {
      "text/html": [
       "<div>\n",
       "<style scoped>\n",
       "    .dataframe tbody tr th:only-of-type {\n",
       "        vertical-align: middle;\n",
       "    }\n",
       "\n",
       "    .dataframe tbody tr th {\n",
       "        vertical-align: top;\n",
       "    }\n",
       "\n",
       "    .dataframe thead th {\n",
       "        text-align: right;\n",
       "    }\n",
       "</style>\n",
       "<table border=\"1\" class=\"dataframe\">\n",
       "  <thead>\n",
       "    <tr style=\"text-align: right;\">\n",
       "      <th></th>\n",
       "      <th>list_time</th>\n",
       "      <th>manufacture_date</th>\n",
       "      <th>brand</th>\n",
       "      <th>model</th>\n",
       "      <th>origin</th>\n",
       "      <th>type</th>\n",
       "      <th>seats</th>\n",
       "      <th>gearbox</th>\n",
       "      <th>fuel</th>\n",
       "      <th>color</th>\n",
       "      <th>mileage_v2</th>\n",
       "    </tr>\n",
       "  </thead>\n",
       "  <tbody>\n",
       "    <tr>\n",
       "      <th>1</th>\n",
       "      <td>1694308247000</td>\n",
       "      <td>2021</td>\n",
       "      <td>Honda</td>\n",
       "      <td>City</td>\n",
       "      <td>Nhật Bản</td>\n",
       "      <td>Sedan</td>\n",
       "      <td>5.0</td>\n",
       "      <td>AT</td>\n",
       "      <td>petrol</td>\n",
       "      <td>white</td>\n",
       "      <td>23000</td>\n",
       "    </tr>\n",
       "    <tr>\n",
       "      <th>2</th>\n",
       "      <td>1693462201000</td>\n",
       "      <td>2016</td>\n",
       "      <td>Kia</td>\n",
       "      <td>Rio</td>\n",
       "      <td>Hàn Quốc</td>\n",
       "      <td>Sedan</td>\n",
       "      <td>5.0</td>\n",
       "      <td>AT</td>\n",
       "      <td>petrol</td>\n",
       "      <td>white</td>\n",
       "      <td>78545</td>\n",
       "    </tr>\n",
       "    <tr>\n",
       "      <th>3</th>\n",
       "      <td>1693493126176</td>\n",
       "      <td>2020</td>\n",
       "      <td>Toyota</td>\n",
       "      <td>Vios</td>\n",
       "      <td>Việt Nam</td>\n",
       "      <td>Sedan</td>\n",
       "      <td>5.0</td>\n",
       "      <td>MT</td>\n",
       "      <td>petrol</td>\n",
       "      <td>white</td>\n",
       "      <td>99999</td>\n",
       "    </tr>\n",
       "    <tr>\n",
       "      <th>5</th>\n",
       "      <td>1694932494416</td>\n",
       "      <td>2022</td>\n",
       "      <td>Hyundai</td>\n",
       "      <td>Elantra</td>\n",
       "      <td>Việt Nam</td>\n",
       "      <td>Sedan</td>\n",
       "      <td>5.0</td>\n",
       "      <td>AT</td>\n",
       "      <td>petrol</td>\n",
       "      <td>white</td>\n",
       "      <td>45000</td>\n",
       "    </tr>\n",
       "    <tr>\n",
       "      <th>6</th>\n",
       "      <td>1694955795249</td>\n",
       "      <td>2018</td>\n",
       "      <td>Toyota</td>\n",
       "      <td>Innova</td>\n",
       "      <td>Việt Nam</td>\n",
       "      <td>SUV / Cross over</td>\n",
       "      <td>8.0</td>\n",
       "      <td>MT</td>\n",
       "      <td>petrol</td>\n",
       "      <td>white</td>\n",
       "      <td>60000</td>\n",
       "    </tr>\n",
       "  </tbody>\n",
       "</table>\n",
       "</div>"
      ],
      "text/plain": [
       "       list_time  manufacture_date    brand    model    origin  \\\n",
       "1  1694308247000              2021    Honda     City  Nhật Bản   \n",
       "2  1693462201000              2016      Kia      Rio  Hàn Quốc   \n",
       "3  1693493126176              2020   Toyota     Vios  Việt Nam   \n",
       "5  1694932494416              2022  Hyundai  Elantra  Việt Nam   \n",
       "6  1694955795249              2018   Toyota   Innova  Việt Nam   \n",
       "\n",
       "               type  seats gearbox    fuel  color  mileage_v2  \n",
       "1             Sedan    5.0      AT  petrol  white       23000  \n",
       "2             Sedan    5.0      AT  petrol  white       78545  \n",
       "3             Sedan    5.0      MT  petrol  white       99999  \n",
       "5             Sedan    5.0      AT  petrol  white       45000  \n",
       "6  SUV / Cross over    8.0      MT  petrol  white       60000  "
      ]
     },
     "execution_count": 9,
     "metadata": {},
     "output_type": "execute_result"
    }
   ],
   "source": [
    "X.head()"
   ]
  },
  {
   "cell_type": "markdown",
   "id": "8b3f8096",
   "metadata": {
    "papermill": {
     "duration": 0.00565,
     "end_time": "2025-01-09T13:37:57.111325",
     "exception": false,
     "start_time": "2025-01-09T13:37:57.105675",
     "status": "completed"
    },
    "tags": []
   },
   "source": [
    "# II. Feature Engineering"
   ]
  },
  {
   "cell_type": "code",
   "execution_count": 10,
   "id": "fa140a98",
   "metadata": {
    "execution": {
     "iopub.execute_input": "2025-01-09T13:37:57.123773Z",
     "iopub.status.busy": "2025-01-09T13:37:57.123507Z",
     "iopub.status.idle": "2025-01-09T13:37:57.132355Z",
     "shell.execute_reply": "2025-01-09T13:37:57.131618Z"
    },
    "papermill": {
     "duration": 0.016654,
     "end_time": "2025-01-09T13:37:57.133586",
     "exception": false,
     "start_time": "2025-01-09T13:37:57.116932",
     "status": "completed"
    },
    "tags": []
   },
   "outputs": [
    {
     "data": {
      "text/plain": [
       "brand\n",
       "Toyota           15728\n",
       "Kia               8776\n",
       "Ford              8566\n",
       "Hyundai           8051\n",
       "Mercedes Benz     4609\n",
       "Mazda             4170\n",
       "Mitsubishi        3894\n",
       "Honda             3725\n",
       "Chevrolet         2970\n",
       "Vinfast           1854\n",
       "Suzuki            1299\n",
       "Daewoo            1144\n",
       "Name: count, dtype: int64"
      ]
     },
     "execution_count": 10,
     "metadata": {},
     "output_type": "execute_result"
    }
   ],
   "source": [
    "brand_counts = X['brand'].value_counts()\n",
    "brand_counts"
   ]
  },
  {
   "cell_type": "markdown",
   "id": "9ce4864f",
   "metadata": {
    "papermill": {
     "duration": 0.005466,
     "end_time": "2025-01-09T13:37:57.145359",
     "exception": false,
     "start_time": "2025-01-09T13:37:57.139893",
     "status": "completed"
    },
    "tags": []
   },
   "source": [
    "## 1. Create new feature"
   ]
  },
  {
   "cell_type": "code",
   "execution_count": 11,
   "id": "b15708b7",
   "metadata": {
    "execution": {
     "iopub.execute_input": "2025-01-09T13:37:57.157428Z",
     "iopub.status.busy": "2025-01-09T13:37:57.157155Z",
     "iopub.status.idle": "2025-01-09T13:37:57.161756Z",
     "shell.execute_reply": "2025-01-09T13:37:57.161148Z"
    },
    "papermill": {
     "duration": 0.011975,
     "end_time": "2025-01-09T13:37:57.162960",
     "exception": false,
     "start_time": "2025-01-09T13:37:57.150985",
     "status": "completed"
    },
    "tags": []
   },
   "outputs": [],
   "source": [
    "def extract_age_features(df):\n",
    "    current_year = 2024\n",
    "\n",
    "    df['Vehicle_Age'] = current_year - df['manufacture_date']\n",
    "    \n",
    "    df['Mileage_per_Year'] = df['mileage_v2'] / df['Vehicle_Age']\n",
    "    df['milage_with_age'] =  df.groupby('Vehicle_Age')['mileage_v2'].transform('mean')\n",
    "    \n",
    "    df['Mileage_per_Year_with_age'] =  df.groupby('Vehicle_Age')['Mileage_per_Year'].transform('mean')\n",
    "    \n",
    "    return df\n",
    "\n",
    "def extract_other_features(df):\n",
    "    \n",
    "    luxury_brands =  ['Mercedes Benz', 'BMW', 'Audi', 'Porsche', 'LandRover', \n",
    "                    'Lexus', 'Jaguar', 'Bentley', 'Maserati', 'Lamborghini', \n",
    "                    'Rolls Royce', 'Ferrari', 'Aston Martin', 'Maybach']\n",
    "    df['Is_Luxury_Brand'] = df['brand'].apply(lambda x: 1 if x in luxury_brands else 0)\n",
    "    return df"
   ]
  },
  {
   "cell_type": "code",
   "execution_count": 12,
   "id": "e0e14b03",
   "metadata": {
    "execution": {
     "iopub.execute_input": "2025-01-09T13:37:57.175107Z",
     "iopub.status.busy": "2025-01-09T13:37:57.174887Z",
     "iopub.status.idle": "2025-01-09T13:37:57.219045Z",
     "shell.execute_reply": "2025-01-09T13:37:57.218360Z"
    },
    "papermill": {
     "duration": 0.051899,
     "end_time": "2025-01-09T13:37:57.220542",
     "exception": false,
     "start_time": "2025-01-09T13:37:57.168643",
     "status": "completed"
    },
    "tags": []
   },
   "outputs": [],
   "source": [
    "X = extract_age_features(X)\n",
    "X = extract_other_features(X)"
   ]
  },
  {
   "cell_type": "code",
   "execution_count": 13,
   "id": "f23bfdf1",
   "metadata": {
    "execution": {
     "iopub.execute_input": "2025-01-09T13:37:57.233111Z",
     "iopub.status.busy": "2025-01-09T13:37:57.232868Z",
     "iopub.status.idle": "2025-01-09T13:37:58.151722Z",
     "shell.execute_reply": "2025-01-09T13:37:58.150937Z"
    },
    "papermill": {
     "duration": 0.926415,
     "end_time": "2025-01-09T13:37:58.152969",
     "exception": false,
     "start_time": "2025-01-09T13:37:57.226554",
     "status": "completed"
    },
    "tags": []
   },
   "outputs": [
    {
     "name": "stdout",
     "output_type": "stream",
     "text": [
      "1.2.2\n"
     ]
    }
   ],
   "source": [
    "import sklearn\n",
    "print(sklearn.__version__)"
   ]
  },
  {
   "cell_type": "markdown",
   "id": "c2f898cd",
   "metadata": {
    "papermill": {
     "duration": 0.005571,
     "end_time": "2025-01-09T13:37:58.164734",
     "exception": false,
     "start_time": "2025-01-09T13:37:58.159163",
     "status": "completed"
    },
    "tags": []
   },
   "source": [
    "# III. Training models"
   ]
  },
  {
   "cell_type": "code",
   "execution_count": 14,
   "id": "e4b7c73d",
   "metadata": {
    "execution": {
     "iopub.execute_input": "2025-01-09T13:37:58.177027Z",
     "iopub.status.busy": "2025-01-09T13:37:58.176664Z",
     "iopub.status.idle": "2025-01-09T13:38:02.095704Z",
     "shell.execute_reply": "2025-01-09T13:38:02.094969Z"
    },
    "papermill": {
     "duration": 3.926859,
     "end_time": "2025-01-09T13:38:02.097232",
     "exception": false,
     "start_time": "2025-01-09T13:37:58.170373",
     "status": "completed"
    },
    "tags": []
   },
   "outputs": [],
   "source": [
    "import pandas as pd\n",
    "import numpy as np\n",
    "import gc\n",
    "import joblib\n",
    "from sklearn.model_selection import train_test_split, KFold\n",
    "from sklearn.metrics import mean_absolute_error\n",
    "from sklearn.impute import SimpleImputer\n",
    "from sklearn.compose import ColumnTransformer\n",
    "from sklearn.preprocessing import OneHotEncoder, StandardScaler, OrdinalEncoder\n",
    "from sklearn.pipeline import Pipeline\n",
    "from lightgbm import LGBMRegressor\n",
    "from catboost import CatBoostRegressor"
   ]
  },
  {
   "cell_type": "markdown",
   "id": "673f8b60",
   "metadata": {
    "papermill": {
     "duration": 0.006077,
     "end_time": "2025-01-09T13:38:02.109663",
     "exception": false,
     "start_time": "2025-01-09T13:38:02.103586",
     "status": "completed"
    },
    "tags": []
   },
   "source": [
    "## 1. Handle Numerical & Categorical features"
   ]
  },
  {
   "cell_type": "code",
   "execution_count": 15,
   "id": "c114db7f",
   "metadata": {
    "execution": {
     "iopub.execute_input": "2025-01-09T13:38:02.122605Z",
     "iopub.status.busy": "2025-01-09T13:38:02.122000Z",
     "iopub.status.idle": "2025-01-09T13:38:02.142462Z",
     "shell.execute_reply": "2025-01-09T13:38:02.141538Z"
    },
    "papermill": {
     "duration": 0.028501,
     "end_time": "2025-01-09T13:38:02.143958",
     "exception": false,
     "start_time": "2025-01-09T13:38:02.115457",
     "status": "completed"
    },
    "tags": []
   },
   "outputs": [],
   "source": [
    "# Identify numerical and categorical features\n",
    "num_features = X.select_dtypes(include=[np.number]).columns.tolist()\n",
    "cat_features = X.select_dtypes(include=[\"object\", \"category\"]).columns.tolist()\n",
    "\n",
    "# Preprocessing pipelines\n",
    "num_transformer = Pipeline(steps=[\n",
    "    ('imputer', SimpleImputer(strategy='mean')),\n",
    "    # ('scaler', StandardScaler())\n",
    "])\n",
    "\n",
    "cat_transformer = Pipeline(steps=[\n",
    "    ('imputer', SimpleImputer(strategy='most_frequent')),\n",
    "    ('ordinal', OrdinalEncoder(handle_unknown='use_encoded_value', unknown_value=-1))\n",
    "])\n",
    "\n",
    "preprocessor = ColumnTransformer(transformers=[\n",
    "    ('num', num_transformer, num_features),\n",
    "    ('cat', cat_transformer, cat_features)\n",
    "])"
   ]
  },
  {
   "cell_type": "markdown",
   "id": "b14d9236",
   "metadata": {
    "papermill": {
     "duration": 0.005708,
     "end_time": "2025-01-09T13:38:02.155814",
     "exception": false,
     "start_time": "2025-01-09T13:38:02.150106",
     "status": "completed"
    },
    "tags": []
   },
   "source": [
    "## 2. Train Test Split"
   ]
  },
  {
   "cell_type": "code",
   "execution_count": 16,
   "id": "c9e60ca8",
   "metadata": {
    "execution": {
     "iopub.execute_input": "2025-01-09T13:38:02.168608Z",
     "iopub.status.busy": "2025-01-09T13:38:02.168253Z",
     "iopub.status.idle": "2025-01-09T13:38:02.349831Z",
     "shell.execute_reply": "2025-01-09T13:38:02.348805Z"
    },
    "papermill": {
     "duration": 0.189457,
     "end_time": "2025-01-09T13:38:02.351072",
     "exception": false,
     "start_time": "2025-01-09T13:38:02.161615",
     "status": "completed"
    },
    "tags": []
   },
   "outputs": [
    {
     "name": "stdout",
     "output_type": "stream",
     "text": [
      "Preprocessor saved to /kaggle/working/preprocessor.pkl\n"
     ]
    }
   ],
   "source": [
    "X_train, X_test, y_train, y_test = train_test_split(X, y, test_size=0.05, random_state=42)\n",
    "\n",
    "preprocessor.fit(X_train)\n",
    "\n",
    "preprocessor_file = \"/kaggle/working/preprocessor.pkl\"\n",
    "joblib.dump(preprocessor, preprocessor_file)\n",
    "print(f\"Preprocessor saved to {preprocessor_file}\")"
   ]
  },
  {
   "cell_type": "markdown",
   "id": "17f68c1d",
   "metadata": {
    "papermill": {
     "duration": 0.005675,
     "end_time": "2025-01-09T13:38:02.363010",
     "exception": false,
     "start_time": "2025-01-09T13:38:02.357335",
     "status": "completed"
    },
    "tags": []
   },
   "source": [
    "## 3. Transform Data"
   ]
  },
  {
   "cell_type": "code",
   "execution_count": 17,
   "id": "41f0b64a",
   "metadata": {
    "execution": {
     "iopub.execute_input": "2025-01-09T13:38:02.375838Z",
     "iopub.status.busy": "2025-01-09T13:38:02.375521Z",
     "iopub.status.idle": "2025-01-09T13:38:02.488789Z",
     "shell.execute_reply": "2025-01-09T13:38:02.487874Z"
    },
    "papermill": {
     "duration": 0.121446,
     "end_time": "2025-01-09T13:38:02.490446",
     "exception": false,
     "start_time": "2025-01-09T13:38:02.369000",
     "status": "completed"
    },
    "tags": []
   },
   "outputs": [],
   "source": [
    "X_train = preprocessor.transform(X_train)\n",
    "X_test = preprocessor.transform(X_test)"
   ]
  },
  {
   "cell_type": "code",
   "execution_count": 18,
   "id": "7b16f3d8",
   "metadata": {
    "execution": {
     "iopub.execute_input": "2025-01-09T13:38:02.503350Z",
     "iopub.status.busy": "2025-01-09T13:38:02.503066Z",
     "iopub.status.idle": "2025-01-09T13:38:02.506913Z",
     "shell.execute_reply": "2025-01-09T13:38:02.506138Z"
    },
    "papermill": {
     "duration": 0.0116,
     "end_time": "2025-01-09T13:38:02.508196",
     "exception": false,
     "start_time": "2025-01-09T13:38:02.496596",
     "status": "completed"
    },
    "tags": []
   },
   "outputs": [],
   "source": [
    "X_train = pd.DataFrame(X_train, columns=num_features + cat_features)\n",
    "X_test = pd.DataFrame(X_test, columns=num_features + cat_features)"
   ]
  },
  {
   "cell_type": "code",
   "execution_count": 19,
   "id": "5c4736d4",
   "metadata": {
    "execution": {
     "iopub.execute_input": "2025-01-09T13:38:02.520407Z",
     "iopub.status.busy": "2025-01-09T13:38:02.520132Z",
     "iopub.status.idle": "2025-01-09T13:38:02.561562Z",
     "shell.execute_reply": "2025-01-09T13:38:02.560857Z"
    },
    "papermill": {
     "duration": 0.049125,
     "end_time": "2025-01-09T13:38:02.563045",
     "exception": false,
     "start_time": "2025-01-09T13:38:02.513920",
     "status": "completed"
    },
    "tags": []
   },
   "outputs": [],
   "source": [
    "X_test.to_csv(\"X_test.csv\", index=False)\n",
    "y_test.to_csv(\"y_test.csv\", index=False)"
   ]
  },
  {
   "cell_type": "code",
   "execution_count": 20,
   "id": "8cc46610",
   "metadata": {
    "execution": {
     "iopub.execute_input": "2025-01-09T13:38:02.576356Z",
     "iopub.status.busy": "2025-01-09T13:38:02.576045Z",
     "iopub.status.idle": "2025-01-09T13:38:02.599467Z",
     "shell.execute_reply": "2025-01-09T13:38:02.598625Z"
    },
    "papermill": {
     "duration": 0.031237,
     "end_time": "2025-01-09T13:38:02.600709",
     "exception": false,
     "start_time": "2025-01-09T13:38:02.569472",
     "status": "completed"
    },
    "tags": []
   },
   "outputs": [
    {
     "data": {
      "text/html": [
       "<div>\n",
       "<style scoped>\n",
       "    .dataframe tbody tr th:only-of-type {\n",
       "        vertical-align: middle;\n",
       "    }\n",
       "\n",
       "    .dataframe tbody tr th {\n",
       "        vertical-align: top;\n",
       "    }\n",
       "\n",
       "    .dataframe thead th {\n",
       "        text-align: right;\n",
       "    }\n",
       "</style>\n",
       "<table border=\"1\" class=\"dataframe\">\n",
       "  <thead>\n",
       "    <tr style=\"text-align: right;\">\n",
       "      <th></th>\n",
       "      <th>list_time</th>\n",
       "      <th>manufacture_date</th>\n",
       "      <th>seats</th>\n",
       "      <th>mileage_v2</th>\n",
       "      <th>Vehicle_Age</th>\n",
       "      <th>Mileage_per_Year</th>\n",
       "      <th>milage_with_age</th>\n",
       "      <th>Mileage_per_Year_with_age</th>\n",
       "      <th>Is_Luxury_Brand</th>\n",
       "      <th>brand</th>\n",
       "      <th>model</th>\n",
       "      <th>origin</th>\n",
       "      <th>type</th>\n",
       "      <th>gearbox</th>\n",
       "      <th>fuel</th>\n",
       "      <th>color</th>\n",
       "    </tr>\n",
       "  </thead>\n",
       "  <tbody>\n",
       "    <tr>\n",
       "      <th>0</th>\n",
       "      <td>1.698198e+12</td>\n",
       "      <td>2016.0</td>\n",
       "      <td>5.0</td>\n",
       "      <td>54000.0</td>\n",
       "      <td>8.0</td>\n",
       "      <td>6750.000000</td>\n",
       "      <td>83965.389875</td>\n",
       "      <td>10495.673734</td>\n",
       "      <td>0.0</td>\n",
       "      <td>10.0</td>\n",
       "      <td>277.0</td>\n",
       "      <td>4.0</td>\n",
       "      <td>1.0</td>\n",
       "      <td>1.0</td>\n",
       "      <td>3.0</td>\n",
       "      <td>11.0</td>\n",
       "    </tr>\n",
       "    <tr>\n",
       "      <th>1</th>\n",
       "      <td>1.696514e+12</td>\n",
       "      <td>2011.0</td>\n",
       "      <td>8.0</td>\n",
       "      <td>99000.0</td>\n",
       "      <td>13.0</td>\n",
       "      <td>7615.384615</td>\n",
       "      <td>101120.942637</td>\n",
       "      <td>7778.534049</td>\n",
       "      <td>0.0</td>\n",
       "      <td>10.0</td>\n",
       "      <td>145.0</td>\n",
       "      <td>6.0</td>\n",
       "      <td>3.0</td>\n",
       "      <td>2.0</td>\n",
       "      <td>3.0</td>\n",
       "      <td>10.0</td>\n",
       "    </tr>\n",
       "    <tr>\n",
       "      <th>2</th>\n",
       "      <td>1.694862e+12</td>\n",
       "      <td>2021.0</td>\n",
       "      <td>5.0</td>\n",
       "      <td>40000.0</td>\n",
       "      <td>3.0</td>\n",
       "      <td>13333.333333</td>\n",
       "      <td>35552.505246</td>\n",
       "      <td>11850.835082</td>\n",
       "      <td>0.0</td>\n",
       "      <td>8.0</td>\n",
       "      <td>27.0</td>\n",
       "      <td>4.0</td>\n",
       "      <td>7.0</td>\n",
       "      <td>2.0</td>\n",
       "      <td>3.0</td>\n",
       "      <td>11.0</td>\n",
       "    </tr>\n",
       "    <tr>\n",
       "      <th>3</th>\n",
       "      <td>1.694311e+12</td>\n",
       "      <td>2021.0</td>\n",
       "      <td>5.0</td>\n",
       "      <td>38000.0</td>\n",
       "      <td>3.0</td>\n",
       "      <td>12666.666667</td>\n",
       "      <td>35552.505246</td>\n",
       "      <td>11850.835082</td>\n",
       "      <td>0.0</td>\n",
       "      <td>10.0</td>\n",
       "      <td>264.0</td>\n",
       "      <td>6.0</td>\n",
       "      <td>7.0</td>\n",
       "      <td>1.0</td>\n",
       "      <td>3.0</td>\n",
       "      <td>11.0</td>\n",
       "    </tr>\n",
       "    <tr>\n",
       "      <th>4</th>\n",
       "      <td>1.696665e+12</td>\n",
       "      <td>2017.0</td>\n",
       "      <td>5.0</td>\n",
       "      <td>68000.0</td>\n",
       "      <td>7.0</td>\n",
       "      <td>9714.285714</td>\n",
       "      <td>82683.072855</td>\n",
       "      <td>11811.867551</td>\n",
       "      <td>0.0</td>\n",
       "      <td>5.0</td>\n",
       "      <td>182.0</td>\n",
       "      <td>6.0</td>\n",
       "      <td>1.0</td>\n",
       "      <td>1.0</td>\n",
       "      <td>3.0</td>\n",
       "      <td>11.0</td>\n",
       "    </tr>\n",
       "    <tr>\n",
       "      <th>...</th>\n",
       "      <td>...</td>\n",
       "      <td>...</td>\n",
       "      <td>...</td>\n",
       "      <td>...</td>\n",
       "      <td>...</td>\n",
       "      <td>...</td>\n",
       "      <td>...</td>\n",
       "      <td>...</td>\n",
       "      <td>...</td>\n",
       "      <td>...</td>\n",
       "      <td>...</td>\n",
       "      <td>...</td>\n",
       "      <td>...</td>\n",
       "      <td>...</td>\n",
       "      <td>...</td>\n",
       "      <td>...</td>\n",
       "    </tr>\n",
       "    <tr>\n",
       "      <th>61541</th>\n",
       "      <td>1.695252e+12</td>\n",
       "      <td>2019.0</td>\n",
       "      <td>5.0</td>\n",
       "      <td>144.0</td>\n",
       "      <td>5.0</td>\n",
       "      <td>28.800000</td>\n",
       "      <td>64202.392049</td>\n",
       "      <td>12840.478410</td>\n",
       "      <td>0.0</td>\n",
       "      <td>8.0</td>\n",
       "      <td>275.0</td>\n",
       "      <td>3.0</td>\n",
       "      <td>3.0</td>\n",
       "      <td>2.0</td>\n",
       "      <td>3.0</td>\n",
       "      <td>11.0</td>\n",
       "    </tr>\n",
       "    <tr>\n",
       "      <th>61542</th>\n",
       "      <td>1.696250e+12</td>\n",
       "      <td>2020.0</td>\n",
       "      <td>5.0</td>\n",
       "      <td>50000.0</td>\n",
       "      <td>4.0</td>\n",
       "      <td>12500.000000</td>\n",
       "      <td>46501.469873</td>\n",
       "      <td>11625.367468</td>\n",
       "      <td>1.0</td>\n",
       "      <td>7.0</td>\n",
       "      <td>121.0</td>\n",
       "      <td>6.0</td>\n",
       "      <td>6.0</td>\n",
       "      <td>1.0</td>\n",
       "      <td>3.0</td>\n",
       "      <td>11.0</td>\n",
       "    </tr>\n",
       "    <tr>\n",
       "      <th>61543</th>\n",
       "      <td>1.695307e+12</td>\n",
       "      <td>2022.0</td>\n",
       "      <td>-1.0</td>\n",
       "      <td>26000.0</td>\n",
       "      <td>2.0</td>\n",
       "      <td>13000.000000</td>\n",
       "      <td>20009.169533</td>\n",
       "      <td>10004.584766</td>\n",
       "      <td>0.0</td>\n",
       "      <td>5.0</td>\n",
       "      <td>182.0</td>\n",
       "      <td>0.0</td>\n",
       "      <td>1.0</td>\n",
       "      <td>1.0</td>\n",
       "      <td>3.0</td>\n",
       "      <td>3.0</td>\n",
       "    </tr>\n",
       "    <tr>\n",
       "      <th>61544</th>\n",
       "      <td>1.696411e+12</td>\n",
       "      <td>2007.0</td>\n",
       "      <td>7.0</td>\n",
       "      <td>122000.0</td>\n",
       "      <td>17.0</td>\n",
       "      <td>7176.470588</td>\n",
       "      <td>119700.255267</td>\n",
       "      <td>7041.191486</td>\n",
       "      <td>0.0</td>\n",
       "      <td>5.0</td>\n",
       "      <td>60.0</td>\n",
       "      <td>0.0</td>\n",
       "      <td>6.0</td>\n",
       "      <td>1.0</td>\n",
       "      <td>2.0</td>\n",
       "      <td>10.0</td>\n",
       "    </tr>\n",
       "    <tr>\n",
       "      <th>61545</th>\n",
       "      <td>1.695813e+12</td>\n",
       "      <td>2020.0</td>\n",
       "      <td>5.0</td>\n",
       "      <td>0.0</td>\n",
       "      <td>4.0</td>\n",
       "      <td>0.000000</td>\n",
       "      <td>46501.469873</td>\n",
       "      <td>11625.367468</td>\n",
       "      <td>0.0</td>\n",
       "      <td>10.0</td>\n",
       "      <td>264.0</td>\n",
       "      <td>6.0</td>\n",
       "      <td>7.0</td>\n",
       "      <td>1.0</td>\n",
       "      <td>3.0</td>\n",
       "      <td>11.0</td>\n",
       "    </tr>\n",
       "  </tbody>\n",
       "</table>\n",
       "<p>61546 rows × 16 columns</p>\n",
       "</div>"
      ],
      "text/plain": [
       "          list_time  manufacture_date  seats  mileage_v2  Vehicle_Age  \\\n",
       "0      1.698198e+12            2016.0    5.0     54000.0          8.0   \n",
       "1      1.696514e+12            2011.0    8.0     99000.0         13.0   \n",
       "2      1.694862e+12            2021.0    5.0     40000.0          3.0   \n",
       "3      1.694311e+12            2021.0    5.0     38000.0          3.0   \n",
       "4      1.696665e+12            2017.0    5.0     68000.0          7.0   \n",
       "...             ...               ...    ...         ...          ...   \n",
       "61541  1.695252e+12            2019.0    5.0       144.0          5.0   \n",
       "61542  1.696250e+12            2020.0    5.0     50000.0          4.0   \n",
       "61543  1.695307e+12            2022.0   -1.0     26000.0          2.0   \n",
       "61544  1.696411e+12            2007.0    7.0    122000.0         17.0   \n",
       "61545  1.695813e+12            2020.0    5.0         0.0          4.0   \n",
       "\n",
       "       Mileage_per_Year  milage_with_age  Mileage_per_Year_with_age  \\\n",
       "0           6750.000000     83965.389875               10495.673734   \n",
       "1           7615.384615    101120.942637                7778.534049   \n",
       "2          13333.333333     35552.505246               11850.835082   \n",
       "3          12666.666667     35552.505246               11850.835082   \n",
       "4           9714.285714     82683.072855               11811.867551   \n",
       "...                 ...              ...                        ...   \n",
       "61541         28.800000     64202.392049               12840.478410   \n",
       "61542      12500.000000     46501.469873               11625.367468   \n",
       "61543      13000.000000     20009.169533               10004.584766   \n",
       "61544       7176.470588    119700.255267                7041.191486   \n",
       "61545          0.000000     46501.469873               11625.367468   \n",
       "\n",
       "       Is_Luxury_Brand  brand  model  origin  type  gearbox  fuel  color  \n",
       "0                  0.0   10.0  277.0     4.0   1.0      1.0   3.0   11.0  \n",
       "1                  0.0   10.0  145.0     6.0   3.0      2.0   3.0   10.0  \n",
       "2                  0.0    8.0   27.0     4.0   7.0      2.0   3.0   11.0  \n",
       "3                  0.0   10.0  264.0     6.0   7.0      1.0   3.0   11.0  \n",
       "4                  0.0    5.0  182.0     6.0   1.0      1.0   3.0   11.0  \n",
       "...                ...    ...    ...     ...   ...      ...   ...    ...  \n",
       "61541              0.0    8.0  275.0     3.0   3.0      2.0   3.0   11.0  \n",
       "61542              1.0    7.0  121.0     6.0   6.0      1.0   3.0   11.0  \n",
       "61543              0.0    5.0  182.0     0.0   1.0      1.0   3.0    3.0  \n",
       "61544              0.0    5.0   60.0     0.0   6.0      1.0   2.0   10.0  \n",
       "61545              0.0   10.0  264.0     6.0   7.0      1.0   3.0   11.0  \n",
       "\n",
       "[61546 rows x 16 columns]"
      ]
     },
     "execution_count": 20,
     "metadata": {},
     "output_type": "execute_result"
    }
   ],
   "source": [
    "X_train"
   ]
  },
  {
   "cell_type": "markdown",
   "id": "9fd7f8c7",
   "metadata": {
    "papermill": {
     "duration": 0.006147,
     "end_time": "2025-01-09T13:38:02.613255",
     "exception": false,
     "start_time": "2025-01-09T13:38:02.607108",
     "status": "completed"
    },
    "tags": []
   },
   "source": [
    "## 4. LGBM & CatBoost 5-folds CV"
   ]
  },
  {
   "cell_type": "code",
   "execution_count": 21,
   "id": "83a34589",
   "metadata": {
    "execution": {
     "iopub.execute_input": "2025-01-09T13:38:02.626199Z",
     "iopub.status.busy": "2025-01-09T13:38:02.625918Z",
     "iopub.status.idle": "2025-01-09T14:05:41.539195Z",
     "shell.execute_reply": "2025-01-09T14:05:41.538337Z"
    },
    "papermill": {
     "duration": 1658.933585,
     "end_time": "2025-01-09T14:05:41.552844",
     "exception": false,
     "start_time": "2025-01-09T13:38:02.619259",
     "status": "completed"
    },
    "tags": []
   },
   "outputs": [
    {
     "name": "stdout",
     "output_type": "stream",
     "text": [
      "Fold 1\n",
      "Training until validation scores don't improve for 100 rounds\n",
      "[300]\tvalid_0's l1: 5.71729e+07\n",
      "[600]\tvalid_0's l1: 5.29596e+07\n",
      "[900]\tvalid_0's l1: 5.0448e+07\n",
      "Did not meet early stopping. Best iteration is:\n",
      "[1000]\tvalid_0's l1: 5.00107e+07\n"
     ]
    },
    {
     "name": "stderr",
     "output_type": "stream",
     "text": [
      "Default metric period is 5 because MAE is/are not implemented for GPU\n"
     ]
    },
    {
     "name": "stdout",
     "output_type": "stream",
     "text": [
      "0:\tlearn: 247331128.2996182\ttest: 247188823.2188465\tbest: 247188823.2188465 (0)\ttotal: 14.7s\tremaining: 4h 4m 47s\n",
      "100:\tlearn: 247331107.0026810\ttest: 247188823.2188465\tbest: 247188780.6284322 (34)\ttotal: 4m 42s\tremaining: 41m 51s\n",
      "bestTest = 247188780.6\n",
      "bestIteration = 34\n",
      "Shrink model to first 35 iterations.\n",
      "Fold 2\n",
      "Training until validation scores don't improve for 100 rounds\n",
      "[300]\tvalid_0's l1: 6.00658e+07\n",
      "[600]\tvalid_0's l1: 5.65365e+07\n",
      "[900]\tvalid_0's l1: 5.47579e+07\n",
      "Did not meet early stopping. Best iteration is:\n",
      "[1000]\tvalid_0's l1: 5.43376e+07\n"
     ]
    },
    {
     "name": "stderr",
     "output_type": "stream",
     "text": [
      "Default metric period is 5 because MAE is/are not implemented for GPU\n"
     ]
    },
    {
     "name": "stdout",
     "output_type": "stream",
     "text": [
      "0:\tlearn: 247656477.6986413\ttest: 245863343.3877650\tbest: 245863343.3877650 (0)\ttotal: 3.4s\tremaining: 56m 34s\n",
      "100:\tlearn: 247656477.6986413\ttest: 245863364.6847022\tbest: 245863322.0908279 (6)\ttotal: 5m 1s\tremaining: 44m 43s\n",
      "bestTest = 245863322.1\n",
      "bestIteration = 6\n",
      "Shrink model to first 7 iterations.\n",
      "Fold 3\n",
      "Training until validation scores don't improve for 100 rounds\n",
      "[300]\tvalid_0's l1: 5.96389e+07\n",
      "[600]\tvalid_0's l1: 5.61822e+07\n",
      "[900]\tvalid_0's l1: 5.47905e+07\n",
      "Did not meet early stopping. Best iteration is:\n",
      "[1000]\tvalid_0's l1: 5.45788e+07\n"
     ]
    },
    {
     "name": "stderr",
     "output_type": "stream",
     "text": [
      "Default metric period is 5 because MAE is/are not implemented for GPU\n"
     ]
    },
    {
     "name": "stdout",
     "output_type": "stream",
     "text": [
      "0:\tlearn: 245743433.9814367\ttest: 253516057.0197417\tbest: 253516057.0197417 (0)\ttotal: 1.08s\tremaining: 18m 3s\n",
      "100:\tlearn: 245743391.3884274\ttest: 253516078.3166789\tbest: 253516035.7228045 (13)\ttotal: 4m 26s\tremaining: 39m 32s\n",
      "bestTest = 253516035.7\n",
      "bestIteration = 13\n",
      "Shrink model to first 14 iterations.\n",
      "Fold 4\n",
      "Training until validation scores don't improve for 100 rounds\n",
      "[300]\tvalid_0's l1: 5.74126e+07\n",
      "[600]\tvalid_0's l1: 5.40331e+07\n",
      "[900]\tvalid_0's l1: 5.22465e+07\n",
      "Did not meet early stopping. Best iteration is:\n",
      "[1000]\tvalid_0's l1: 5.19215e+07\n"
     ]
    },
    {
     "name": "stderr",
     "output_type": "stream",
     "text": [
      "Default metric period is 5 because MAE is/are not implemented for GPU\n"
     ]
    },
    {
     "name": "stdout",
     "output_type": "stream",
     "text": [
      "0:\tlearn: 247820418.1915226\ttest: 245207738.4729872\tbest: 245207738.4729872 (0)\ttotal: 3.45s\tremaining: 57m 24s\n",
      "100:\tlearn: 247820418.1915226\ttest: 245207759.7699244\tbest: 245207738.4729872 (0)\ttotal: 4m 57s\tremaining: 44m 11s\n",
      "bestTest = 245207738.5\n",
      "bestIteration = 0\n",
      "Shrink model to first 1 iterations.\n",
      "Fold 5\n",
      "Training until validation scores don't improve for 100 rounds\n",
      "[300]\tvalid_0's l1: 5.91431e+07\n",
      "[600]\tvalid_0's l1: 5.53968e+07\n",
      "[900]\tvalid_0's l1: 5.35888e+07\n",
      "Did not meet early stopping. Best iteration is:\n",
      "[989]\tvalid_0's l1: 5.31491e+07\n"
     ]
    },
    {
     "name": "stderr",
     "output_type": "stream",
     "text": [
      "Default metric period is 5 because MAE is/are not implemented for GPU\n"
     ]
    },
    {
     "name": "stdout",
     "output_type": "stream",
     "text": [
      "0:\tlearn: 247936335.0663932\ttest: 244744146.7440085\tbest: 244744146.7440085 (0)\ttotal: 3.36s\tremaining: 55m 55s\n",
      "100:\tlearn: 247936249.8803745\ttest: 244744125.4470713\tbest: 244744125.4470713 (15)\ttotal: 4m 46s\tremaining: 42m 32s\n",
      "bestTest = 244744125.4\n",
      "bestIteration = 15\n",
      "Shrink model to first 16 iterations.\n",
      "LightGBM OOF MAE: 52799511.7409\n",
      "CatBoost OOF MAE: 247304023.7166\n"
     ]
    }
   ],
   "source": [
    "import numpy as np\n",
    "import pandas as pd\n",
    "from sklearn.model_selection import KFold\n",
    "from sklearn.metrics import mean_absolute_error\n",
    "import lightgbm as lgb\n",
    "from catboost import CatBoostRegressor\n",
    "import gc\n",
    "\n",
    "cv = KFold(n_splits=5, shuffle=True, random_state=42)\n",
    "\n",
    "lgb_params = {\n",
    "    \"boosting_type\": \"gbdt\",\n",
    "    \"objective\": \"regression\",\n",
    "    \"metric\": \"mae\",\n",
    "    \"max_depth\": 16,\n",
    "    \"max_bin\": 255,\n",
    "    \"learning_rate\": 0.05,\n",
    "    \"n_estimators\": 1000,\n",
    "    \"colsample_bytree\": 0.8,\n",
    "    \"verbose\": -1,\n",
    "    \"random_state\": 42,\n",
    "    \"device\": \"gpu\",  # Change to 'cpu' if GPU is not available\n",
    "}\n",
    "\n",
    "catboost_params = {\n",
    "    \"iterations\": 1000,\n",
    "    \"depth\": 16,\n",
    "    \"learning_rate\": 0.05,\n",
    "    \"loss_function\": \"MAE\",\n",
    "    \"random_seed\": 42,\n",
    "    \"verbose\": 100,\n",
    "    \"task_type\": \"GPU\",  # Change to 'CPU' if GPU is not available\n",
    "}\n",
    "\n",
    "lgb_oof_pred = np.zeros(X_train.shape[0])\n",
    "catboost_oof_pred = np.zeros(X_train.shape[0])\n",
    "\n",
    "lgb_fitted_models = []\n",
    "catboost_fitted_models = []\n",
    "\n",
    "for fold, (idx_train, idx_valid) in enumerate(cv.split(X_train, y_train)):\n",
    "    print(f\"Fold {fold + 1}\")\n",
    "    \n",
    "    X_tr, y_tr = X_train.iloc[idx_train], y_train.iloc[idx_train]\n",
    "    X_val, y_val = X_train.iloc[idx_valid], y_train.iloc[idx_valid]\n",
    "\n",
    "    # LightGBM model\n",
    "    lgb_model = lgb.LGBMRegressor(**lgb_params)\n",
    "    lgb_model.fit(\n",
    "        X_tr, y_tr,\n",
    "        eval_set=[(X_val, y_val)],\n",
    "        eval_metric=\"mae\",\n",
    "        callbacks=[\n",
    "            lgb.early_stopping(stopping_rounds=100),\n",
    "            lgb.log_evaluation(period=300)\n",
    "        ]\n",
    "    )\n",
    "    lgb_fitted_models.append(lgb_model)\n",
    "    lgb_oof_pred[idx_valid] = lgb_model.predict(X_val)\n",
    "\n",
    "    # CatBoost model\n",
    "    catboost_model = CatBoostRegressor(**catboost_params)\n",
    "    catboost_model.fit(\n",
    "        X_tr, y_tr,\n",
    "        eval_set=[(X_val, y_val)],\n",
    "        early_stopping_rounds=100,\n",
    "    )\n",
    "    catboost_fitted_models.append(catboost_model)\n",
    "    catboost_oof_pred[idx_valid] = catboost_model.predict(X_val)\n",
    "\n",
    "    gc.collect()\n",
    "\n",
    "lgb_mae = mean_absolute_error(y_train, lgb_oof_pred)\n",
    "catboost_mae = mean_absolute_error(y_train, catboost_oof_pred)\n",
    "\n",
    "print(f\"LightGBM OOF MAE: {lgb_mae:.4f}\")\n",
    "print(f\"CatBoost OOF MAE: {catboost_mae:.4f}\")"
   ]
  },
  {
   "cell_type": "markdown",
   "id": "3ddff8c4",
   "metadata": {
    "papermill": {
     "duration": 0.007814,
     "end_time": "2025-01-09T14:05:41.575147",
     "exception": false,
     "start_time": "2025-01-09T14:05:41.567333",
     "status": "completed"
    },
    "tags": []
   },
   "source": [
    "## 6. Save pretrained models"
   ]
  },
  {
   "cell_type": "code",
   "execution_count": 22,
   "id": "f9a74555",
   "metadata": {
    "execution": {
     "iopub.execute_input": "2025-01-09T14:05:41.592627Z",
     "iopub.status.busy": "2025-01-09T14:05:41.592307Z",
     "iopub.status.idle": "2025-01-09T14:05:42.413136Z",
     "shell.execute_reply": "2025-01-09T14:05:42.412094Z"
    },
    "papermill": {
     "duration": 0.831109,
     "end_time": "2025-01-09T14:05:42.414686",
     "exception": false,
     "start_time": "2025-01-09T14:05:41.583577",
     "status": "completed"
    },
    "tags": []
   },
   "outputs": [],
   "source": [
    "import joblib\n",
    "\n",
    "for i, model in enumerate(lgb_fitted_models):\n",
    "    joblib.dump(model, f\"lgb_model_fold_{i + 1}.joblib\")\n",
    "for i, model in enumerate(catboost_fitted_models):\n",
    "    joblib.dump(model, f\"catboost_model_fold_{i + 1}.joblib\")"
   ]
  },
  {
   "cell_type": "code",
   "execution_count": null,
   "id": "80e90352",
   "metadata": {
    "papermill": {
     "duration": 0.008336,
     "end_time": "2025-01-09T14:05:42.432018",
     "exception": false,
     "start_time": "2025-01-09T14:05:42.423682",
     "status": "completed"
    },
    "tags": []
   },
   "outputs": [],
   "source": []
  }
 ],
 "metadata": {
  "kaggle": {
   "accelerator": "gpu",
   "dataSources": [
    {
     "sourceId": 216607487,
     "sourceType": "kernelVersion"
    }
   ],
   "dockerImageVersionId": 30822,
   "isGpuEnabled": true,
   "isInternetEnabled": true,
   "language": "python",
   "sourceType": "notebook"
  },
  "kernelspec": {
   "display_name": "Python 3",
   "language": "python",
   "name": "python3"
  },
  "language_info": {
   "codemirror_mode": {
    "name": "ipython",
    "version": 3
   },
   "file_extension": ".py",
   "mimetype": "text/x-python",
   "name": "python",
   "nbconvert_exporter": "python",
   "pygments_lexer": "ipython3",
   "version": "3.10.12"
  },
  "papermill": {
   "default_parameters": {},
   "duration": 1670.09696,
   "end_time": "2025-01-09T14:05:43.460444",
   "environment_variables": {},
   "exception": null,
   "input_path": "__notebook__.ipynb",
   "output_path": "__notebook__.ipynb",
   "parameters": {},
   "start_time": "2025-01-09T13:37:53.363484",
   "version": "2.6.0"
  }
 },
 "nbformat": 4,
 "nbformat_minor": 5
}
