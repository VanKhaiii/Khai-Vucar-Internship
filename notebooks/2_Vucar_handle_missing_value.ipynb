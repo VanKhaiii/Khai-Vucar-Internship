{
 "cells": [
  {
   "cell_type": "code",
   "execution_count": 1,
   "id": "aa2a8d21",
   "metadata": {
    "_cell_guid": "b1076dfc-b9ad-4769-8c92-a6c4dae69d19",
    "_uuid": "8f2839f25d086af736a60e9eeb907d3b93b6e0e5",
    "execution": {
     "iopub.execute_input": "2025-01-08T06:45:59.094749Z",
     "iopub.status.busy": "2025-01-08T06:45:59.094313Z",
     "iopub.status.idle": "2025-01-08T06:45:59.520398Z",
     "shell.execute_reply": "2025-01-08T06:45:59.518699Z"
    },
    "papermill": {
     "duration": 0.435392,
     "end_time": "2025-01-08T06:45:59.523465",
     "exception": false,
     "start_time": "2025-01-08T06:45:59.088073",
     "status": "completed"
    },
    "tags": []
   },
   "outputs": [
    {
     "name": "stdout",
     "output_type": "stream",
     "text": [
      "/kaggle/input/intern/car.csv\n",
      "/kaggle/input/vucar-prepare-store-dict/final_data_dict.json\n",
      "/kaggle/input/vucar-prepare-store-dict/__results__.html\n",
      "/kaggle/input/vucar-prepare-store-dict/data_dict.json\n",
      "/kaggle/input/vucar-prepare-store-dict/__notebook__.ipynb\n",
      "/kaggle/input/vucar-prepare-store-dict/__output__.json\n",
      "/kaggle/input/vucar-prepare-store-dict/custom.css\n"
     ]
    }
   ],
   "source": [
    "import numpy as np \n",
    "import pandas as pd\n",
    "\n",
    "import os\n",
    "for dirname, _, filenames in os.walk('/kaggle/input'):\n",
    "    for filename in filenames:\n",
    "        print(os.path.join(dirname, filename))"
   ]
  },
  {
   "cell_type": "code",
   "execution_count": 2,
   "id": "9ccff626",
   "metadata": {
    "execution": {
     "iopub.execute_input": "2025-01-08T06:45:59.535106Z",
     "iopub.status.busy": "2025-01-08T06:45:59.534520Z",
     "iopub.status.idle": "2025-01-08T06:46:00.835236Z",
     "shell.execute_reply": "2025-01-08T06:46:00.834100Z"
    },
    "papermill": {
     "duration": 1.30793,
     "end_time": "2025-01-08T06:46:00.837280",
     "exception": false,
     "start_time": "2025-01-08T06:45:59.529350",
     "status": "completed"
    },
    "tags": []
   },
   "outputs": [
    {
     "data": {
      "text/html": [
       "<div>\n",
       "<style scoped>\n",
       "    .dataframe tbody tr th:only-of-type {\n",
       "        vertical-align: middle;\n",
       "    }\n",
       "\n",
       "    .dataframe tbody tr th {\n",
       "        vertical-align: top;\n",
       "    }\n",
       "\n",
       "    .dataframe thead th {\n",
       "        text-align: right;\n",
       "    }\n",
       "</style>\n",
       "<table border=\"1\" class=\"dataframe\">\n",
       "  <thead>\n",
       "    <tr style=\"text-align: right;\">\n",
       "      <th></th>\n",
       "      <th>id</th>\n",
       "      <th>list_id</th>\n",
       "      <th>list_time</th>\n",
       "      <th>manufacture_date</th>\n",
       "      <th>brand</th>\n",
       "      <th>model</th>\n",
       "      <th>origin</th>\n",
       "      <th>type</th>\n",
       "      <th>seats</th>\n",
       "      <th>gearbox</th>\n",
       "      <th>fuel</th>\n",
       "      <th>color</th>\n",
       "      <th>mileage_v2</th>\n",
       "      <th>price</th>\n",
       "      <th>condition</th>\n",
       "    </tr>\n",
       "  </thead>\n",
       "  <tbody>\n",
       "    <tr>\n",
       "      <th>0</th>\n",
       "      <td>148468232</td>\n",
       "      <td>108616925</td>\n",
       "      <td>1693378633111</td>\n",
       "      <td>1980</td>\n",
       "      <td>Jeep</td>\n",
       "      <td>A2</td>\n",
       "      <td>Mỹ</td>\n",
       "      <td>SUV / Cross over</td>\n",
       "      <td>4.0</td>\n",
       "      <td>MT</td>\n",
       "      <td>petrol</td>\n",
       "      <td>green</td>\n",
       "      <td>40000</td>\n",
       "      <td>380000000.0</td>\n",
       "      <td>used</td>\n",
       "    </tr>\n",
       "    <tr>\n",
       "      <th>1</th>\n",
       "      <td>149864917</td>\n",
       "      <td>109805135</td>\n",
       "      <td>1694308247000</td>\n",
       "      <td>2021</td>\n",
       "      <td>Honda</td>\n",
       "      <td>City</td>\n",
       "      <td>Nhật Bản</td>\n",
       "      <td>Sedan</td>\n",
       "      <td>5.0</td>\n",
       "      <td>AT</td>\n",
       "      <td>petrol</td>\n",
       "      <td>white</td>\n",
       "      <td>23000</td>\n",
       "      <td>455000000.0</td>\n",
       "      <td>used</td>\n",
       "    </tr>\n",
       "    <tr>\n",
       "      <th>2</th>\n",
       "      <td>149580046</td>\n",
       "      <td>109560282</td>\n",
       "      <td>1693462201000</td>\n",
       "      <td>2016</td>\n",
       "      <td>Kia</td>\n",
       "      <td>Rio</td>\n",
       "      <td>Hàn Quốc</td>\n",
       "      <td>NaN</td>\n",
       "      <td>NaN</td>\n",
       "      <td>AT</td>\n",
       "      <td>petrol</td>\n",
       "      <td>NaN</td>\n",
       "      <td>78545</td>\n",
       "      <td>295000000.0</td>\n",
       "      <td>used</td>\n",
       "    </tr>\n",
       "    <tr>\n",
       "      <th>3</th>\n",
       "      <td>148601679</td>\n",
       "      <td>108727914</td>\n",
       "      <td>1693493126176</td>\n",
       "      <td>2020</td>\n",
       "      <td>Toyota</td>\n",
       "      <td>Vios</td>\n",
       "      <td>Việt Nam</td>\n",
       "      <td>Sedan</td>\n",
       "      <td>5.0</td>\n",
       "      <td>MT</td>\n",
       "      <td>petrol</td>\n",
       "      <td>white</td>\n",
       "      <td>99999</td>\n",
       "      <td>368000000.0</td>\n",
       "      <td>used</td>\n",
       "    </tr>\n",
       "    <tr>\n",
       "      <th>4</th>\n",
       "      <td>149530234</td>\n",
       "      <td>109517456</td>\n",
       "      <td>1693313503000</td>\n",
       "      <td>2001</td>\n",
       "      <td>Fiat</td>\n",
       "      <td>Siena</td>\n",
       "      <td>NaN</td>\n",
       "      <td>NaN</td>\n",
       "      <td>NaN</td>\n",
       "      <td>MT</td>\n",
       "      <td>petrol</td>\n",
       "      <td>white</td>\n",
       "      <td>200000</td>\n",
       "      <td>73000000.0</td>\n",
       "      <td>used</td>\n",
       "    </tr>\n",
       "  </tbody>\n",
       "</table>\n",
       "</div>"
      ],
      "text/plain": [
       "          id    list_id      list_time  manufacture_date   brand  model  \\\n",
       "0  148468232  108616925  1693378633111              1980    Jeep     A2   \n",
       "1  149864917  109805135  1694308247000              2021   Honda   City   \n",
       "2  149580046  109560282  1693462201000              2016     Kia    Rio   \n",
       "3  148601679  108727914  1693493126176              2020  Toyota   Vios   \n",
       "4  149530234  109517456  1693313503000              2001    Fiat  Siena   \n",
       "\n",
       "     origin              type  seats gearbox    fuel  color  mileage_v2  \\\n",
       "0        Mỹ  SUV / Cross over    4.0      MT  petrol  green       40000   \n",
       "1  Nhật Bản             Sedan    5.0      AT  petrol  white       23000   \n",
       "2  Hàn Quốc               NaN    NaN      AT  petrol    NaN       78545   \n",
       "3  Việt Nam             Sedan    5.0      MT  petrol  white       99999   \n",
       "4       NaN               NaN    NaN      MT  petrol  white      200000   \n",
       "\n",
       "         price condition  \n",
       "0  380000000.0      used  \n",
       "1  455000000.0      used  \n",
       "2  295000000.0      used  \n",
       "3  368000000.0      used  \n",
       "4   73000000.0      used  "
      ]
     },
     "execution_count": 2,
     "metadata": {},
     "output_type": "execute_result"
    }
   ],
   "source": [
    "df = pd.read_csv(\"/kaggle/input/intern/car.csv\")\n",
    "df.head()"
   ]
  },
  {
   "cell_type": "code",
   "execution_count": 3,
   "id": "f4a50dbe",
   "metadata": {
    "execution": {
     "iopub.execute_input": "2025-01-08T06:46:00.846296Z",
     "iopub.status.busy": "2025-01-08T06:46:00.845909Z",
     "iopub.status.idle": "2025-01-08T06:46:01.154395Z",
     "shell.execute_reply": "2025-01-08T06:46:01.153325Z"
    },
    "papermill": {
     "duration": 0.315056,
     "end_time": "2025-01-08T06:46:01.156246",
     "exception": false,
     "start_time": "2025-01-08T06:46:00.841190",
     "status": "completed"
    },
    "tags": []
   },
   "outputs": [
    {
     "data": {
      "text/plain": [
       "(81458, 15)"
      ]
     },
     "execution_count": 3,
     "metadata": {},
     "output_type": "execute_result"
    }
   ],
   "source": [
    "df = df.drop_duplicates()\n",
    "df.shape"
   ]
  },
  {
   "cell_type": "code",
   "execution_count": 4,
   "id": "8c945778",
   "metadata": {
    "execution": {
     "iopub.execute_input": "2025-01-08T06:46:01.165343Z",
     "iopub.status.busy": "2025-01-08T06:46:01.165012Z",
     "iopub.status.idle": "2025-01-08T06:46:01.226240Z",
     "shell.execute_reply": "2025-01-08T06:46:01.225123Z"
    },
    "papermill": {
     "duration": 0.067686,
     "end_time": "2025-01-08T06:46:01.227892",
     "exception": false,
     "start_time": "2025-01-08T06:46:01.160206",
     "status": "completed"
    },
    "tags": []
   },
   "outputs": [
    {
     "name": "stdout",
     "output_type": "stream",
     "text": [
      "(81436, 15)\n"
     ]
    },
    {
     "data": {
      "text/plain": [
       "id                      0\n",
       "list_id                 0\n",
       "list_time               0\n",
       "manufacture_date        0\n",
       "brand                   0\n",
       "model                   0\n",
       "origin              22999\n",
       "type                11126\n",
       "seats                8753\n",
       "gearbox               326\n",
       "fuel                   14\n",
       "color               26074\n",
       "mileage_v2              0\n",
       "price                  30\n",
       "condition               0\n",
       "dtype: int64"
      ]
     },
     "execution_count": 4,
     "metadata": {},
     "output_type": "execute_result"
    }
   ],
   "source": [
    "df = df.dropna(subset=['brand', 'model'])\n",
    "print(df.shape)\n",
    "df.isnull().sum()"
   ]
  },
  {
   "cell_type": "code",
   "execution_count": 5,
   "id": "6ac31134",
   "metadata": {
    "execution": {
     "iopub.execute_input": "2025-01-08T06:46:01.237326Z",
     "iopub.status.busy": "2025-01-08T06:46:01.236944Z",
     "iopub.status.idle": "2025-01-08T06:46:01.252908Z",
     "shell.execute_reply": "2025-01-08T06:46:01.251692Z"
    },
    "papermill": {
     "duration": 0.022712,
     "end_time": "2025-01-08T06:46:01.254820",
     "exception": false,
     "start_time": "2025-01-08T06:46:01.232108",
     "status": "completed"
    },
    "tags": []
   },
   "outputs": [
    {
     "data": {
      "text/html": [
       "<div>\n",
       "<style scoped>\n",
       "    .dataframe tbody tr th:only-of-type {\n",
       "        vertical-align: middle;\n",
       "    }\n",
       "\n",
       "    .dataframe tbody tr th {\n",
       "        vertical-align: top;\n",
       "    }\n",
       "\n",
       "    .dataframe thead th {\n",
       "        text-align: right;\n",
       "    }\n",
       "</style>\n",
       "<table border=\"1\" class=\"dataframe\">\n",
       "  <thead>\n",
       "    <tr style=\"text-align: right;\">\n",
       "      <th></th>\n",
       "      <th>id</th>\n",
       "      <th>list_id</th>\n",
       "      <th>list_time</th>\n",
       "      <th>manufacture_date</th>\n",
       "      <th>brand</th>\n",
       "      <th>model</th>\n",
       "      <th>origin</th>\n",
       "      <th>type</th>\n",
       "      <th>seats</th>\n",
       "      <th>gearbox</th>\n",
       "      <th>fuel</th>\n",
       "      <th>color</th>\n",
       "      <th>mileage_v2</th>\n",
       "      <th>price</th>\n",
       "      <th>condition</th>\n",
       "    </tr>\n",
       "  </thead>\n",
       "  <tbody>\n",
       "    <tr>\n",
       "      <th>0</th>\n",
       "      <td>148468232</td>\n",
       "      <td>108616925</td>\n",
       "      <td>1693378633111</td>\n",
       "      <td>1980</td>\n",
       "      <td>Jeep</td>\n",
       "      <td>A2</td>\n",
       "      <td>Mỹ</td>\n",
       "      <td>SUV / Cross over</td>\n",
       "      <td>4.0</td>\n",
       "      <td>MT</td>\n",
       "      <td>petrol</td>\n",
       "      <td>green</td>\n",
       "      <td>40000</td>\n",
       "      <td>380000000.0</td>\n",
       "      <td>used</td>\n",
       "    </tr>\n",
       "    <tr>\n",
       "      <th>1</th>\n",
       "      <td>149864917</td>\n",
       "      <td>109805135</td>\n",
       "      <td>1694308247000</td>\n",
       "      <td>2021</td>\n",
       "      <td>Honda</td>\n",
       "      <td>City</td>\n",
       "      <td>Nhật Bản</td>\n",
       "      <td>Sedan</td>\n",
       "      <td>5.0</td>\n",
       "      <td>AT</td>\n",
       "      <td>petrol</td>\n",
       "      <td>white</td>\n",
       "      <td>23000</td>\n",
       "      <td>455000000.0</td>\n",
       "      <td>used</td>\n",
       "    </tr>\n",
       "    <tr>\n",
       "      <th>2</th>\n",
       "      <td>149580046</td>\n",
       "      <td>109560282</td>\n",
       "      <td>1693462201000</td>\n",
       "      <td>2016</td>\n",
       "      <td>Kia</td>\n",
       "      <td>Rio</td>\n",
       "      <td>Hàn Quốc</td>\n",
       "      <td>NaN</td>\n",
       "      <td>NaN</td>\n",
       "      <td>AT</td>\n",
       "      <td>petrol</td>\n",
       "      <td>NaN</td>\n",
       "      <td>78545</td>\n",
       "      <td>295000000.0</td>\n",
       "      <td>used</td>\n",
       "    </tr>\n",
       "    <tr>\n",
       "      <th>3</th>\n",
       "      <td>148601679</td>\n",
       "      <td>108727914</td>\n",
       "      <td>1693493126176</td>\n",
       "      <td>2020</td>\n",
       "      <td>Toyota</td>\n",
       "      <td>Vios</td>\n",
       "      <td>Việt Nam</td>\n",
       "      <td>Sedan</td>\n",
       "      <td>5.0</td>\n",
       "      <td>MT</td>\n",
       "      <td>petrol</td>\n",
       "      <td>white</td>\n",
       "      <td>99999</td>\n",
       "      <td>368000000.0</td>\n",
       "      <td>used</td>\n",
       "    </tr>\n",
       "    <tr>\n",
       "      <th>4</th>\n",
       "      <td>149530234</td>\n",
       "      <td>109517456</td>\n",
       "      <td>1693313503000</td>\n",
       "      <td>2001</td>\n",
       "      <td>Fiat</td>\n",
       "      <td>Siena</td>\n",
       "      <td>NaN</td>\n",
       "      <td>NaN</td>\n",
       "      <td>NaN</td>\n",
       "      <td>MT</td>\n",
       "      <td>petrol</td>\n",
       "      <td>white</td>\n",
       "      <td>200000</td>\n",
       "      <td>73000000.0</td>\n",
       "      <td>used</td>\n",
       "    </tr>\n",
       "  </tbody>\n",
       "</table>\n",
       "</div>"
      ],
      "text/plain": [
       "          id    list_id      list_time  manufacture_date   brand  model  \\\n",
       "0  148468232  108616925  1693378633111              1980    Jeep     A2   \n",
       "1  149864917  109805135  1694308247000              2021   Honda   City   \n",
       "2  149580046  109560282  1693462201000              2016     Kia    Rio   \n",
       "3  148601679  108727914  1693493126176              2020  Toyota   Vios   \n",
       "4  149530234  109517456  1693313503000              2001    Fiat  Siena   \n",
       "\n",
       "     origin              type  seats gearbox    fuel  color  mileage_v2  \\\n",
       "0        Mỹ  SUV / Cross over    4.0      MT  petrol  green       40000   \n",
       "1  Nhật Bản             Sedan    5.0      AT  petrol  white       23000   \n",
       "2  Hàn Quốc               NaN    NaN      AT  petrol    NaN       78545   \n",
       "3  Việt Nam             Sedan    5.0      MT  petrol  white       99999   \n",
       "4       NaN               NaN    NaN      MT  petrol  white      200000   \n",
       "\n",
       "         price condition  \n",
       "0  380000000.0      used  \n",
       "1  455000000.0      used  \n",
       "2  295000000.0      used  \n",
       "3  368000000.0      used  \n",
       "4   73000000.0      used  "
      ]
     },
     "execution_count": 5,
     "metadata": {},
     "output_type": "execute_result"
    }
   ],
   "source": [
    "df.head()"
   ]
  },
  {
   "cell_type": "markdown",
   "id": "44040be3",
   "metadata": {
    "papermill": {
     "duration": 0.004042,
     "end_time": "2025-01-08T06:46:01.263541",
     "exception": false,
     "start_time": "2025-01-08T06:46:01.259499",
     "status": "completed"
    },
    "tags": []
   },
   "source": [
    "# Handle Missing Value"
   ]
  },
  {
   "cell_type": "code",
   "execution_count": 6,
   "id": "f955e4e7",
   "metadata": {
    "execution": {
     "iopub.execute_input": "2025-01-08T06:46:01.273405Z",
     "iopub.status.busy": "2025-01-08T06:46:01.273066Z",
     "iopub.status.idle": "2025-01-08T06:46:01.302727Z",
     "shell.execute_reply": "2025-01-08T06:46:01.301479Z"
    },
    "papermill": {
     "duration": 0.036845,
     "end_time": "2025-01-08T06:46:01.304707",
     "exception": false,
     "start_time": "2025-01-08T06:46:01.267862",
     "status": "completed"
    },
    "tags": []
   },
   "outputs": [],
   "source": [
    "import json\n",
    "\n",
    "file_path = '/kaggle/input/vucar-prepare-store-dict/final_data_dict.json'\n",
    "with open(file_path, 'r', encoding='utf-8') as f:\n",
    "    car_data_json = json.load(f)"
   ]
  },
  {
   "cell_type": "code",
   "execution_count": 7,
   "id": "2a10cadf",
   "metadata": {
    "execution": {
     "iopub.execute_input": "2025-01-08T06:46:01.315063Z",
     "iopub.status.busy": "2025-01-08T06:46:01.314638Z",
     "iopub.status.idle": "2025-01-08T06:46:09.262343Z",
     "shell.execute_reply": "2025-01-08T06:46:09.261268Z"
    },
    "papermill": {
     "duration": 7.955096,
     "end_time": "2025-01-08T06:46:09.264334",
     "exception": false,
     "start_time": "2025-01-08T06:46:01.309238",
     "status": "completed"
    },
    "tags": []
   },
   "outputs": [],
   "source": [
    "def fill_missing_values(row, json_data):\n",
    "    manufacture_year = str(row[\"manufacture_date\"])\n",
    "    brand = row[\"brand\"]\n",
    "    model = row[\"model\"]\n",
    "\n",
    "    if manufacture_year in json_data:\n",
    "        brands = json_data[manufacture_year]\n",
    "        if brand in brands and model in brands[brand]:\n",
    "            model_info = brands[brand][model]\n",
    "            for col in [\"origin\", \"type\", \"seats\", \"gearbox\", \"fuel\", \"color\"]:\n",
    "                if pd.isna(row[col]):\n",
    "                    row[col] = model_info.get(col, row[col])\n",
    "    return row\n",
    "\n",
    "# Áp dụng hàm điền dữ liệu vào từng hàng trong dataframe\n",
    "df = df.apply(lambda row: fill_missing_values(row, car_data_json), axis=1)"
   ]
  },
  {
   "cell_type": "code",
   "execution_count": 8,
   "id": "0923ff11",
   "metadata": {
    "execution": {
     "iopub.execute_input": "2025-01-08T06:46:09.274777Z",
     "iopub.status.busy": "2025-01-08T06:46:09.274330Z",
     "iopub.status.idle": "2025-01-08T06:46:09.319907Z",
     "shell.execute_reply": "2025-01-08T06:46:09.318837Z"
    },
    "papermill": {
     "duration": 0.05283,
     "end_time": "2025-01-08T06:46:09.321778",
     "exception": false,
     "start_time": "2025-01-08T06:46:09.268948",
     "status": "completed"
    },
    "tags": []
   },
   "outputs": [
    {
     "data": {
      "text/plain": [
       "id                   0\n",
       "list_id              0\n",
       "list_time            0\n",
       "manufacture_date     0\n",
       "brand                0\n",
       "model                0\n",
       "origin               0\n",
       "type                 0\n",
       "seats                0\n",
       "gearbox              0\n",
       "fuel                 0\n",
       "color                0\n",
       "mileage_v2           0\n",
       "price               30\n",
       "condition            0\n",
       "dtype: int64"
      ]
     },
     "execution_count": 8,
     "metadata": {},
     "output_type": "execute_result"
    }
   ],
   "source": [
    "df.isnull().sum()"
   ]
  },
  {
   "cell_type": "code",
   "execution_count": 9,
   "id": "79a70d3c",
   "metadata": {
    "execution": {
     "iopub.execute_input": "2025-01-08T06:46:09.332169Z",
     "iopub.status.busy": "2025-01-08T06:46:09.331820Z",
     "iopub.status.idle": "2025-01-08T06:46:09.391701Z",
     "shell.execute_reply": "2025-01-08T06:46:09.390693Z"
    },
    "papermill": {
     "duration": 0.067365,
     "end_time": "2025-01-08T06:46:09.393594",
     "exception": false,
     "start_time": "2025-01-08T06:46:09.326229",
     "status": "completed"
    },
    "tags": []
   },
   "outputs": [
    {
     "data": {
      "text/plain": [
       "id                  0\n",
       "list_id             0\n",
       "list_time           0\n",
       "manufacture_date    0\n",
       "brand               0\n",
       "model               0\n",
       "origin              0\n",
       "type                0\n",
       "seats               0\n",
       "gearbox             0\n",
       "fuel                0\n",
       "color               0\n",
       "mileage_v2          0\n",
       "price               0\n",
       "condition           0\n",
       "dtype: int64"
      ]
     },
     "execution_count": 9,
     "metadata": {},
     "output_type": "execute_result"
    }
   ],
   "source": [
    "df_cleaned = df.dropna(subset=['price'])\n",
    "df_cleaned.isnull().sum()"
   ]
  },
  {
   "cell_type": "code",
   "execution_count": 10,
   "id": "889d8ccd",
   "metadata": {
    "execution": {
     "iopub.execute_input": "2025-01-08T06:46:09.404102Z",
     "iopub.status.busy": "2025-01-08T06:46:09.403679Z",
     "iopub.status.idle": "2025-01-08T06:46:09.898990Z",
     "shell.execute_reply": "2025-01-08T06:46:09.897873Z"
    },
    "papermill": {
     "duration": 0.502642,
     "end_time": "2025-01-08T06:46:09.900974",
     "exception": false,
     "start_time": "2025-01-08T06:46:09.398332",
     "status": "completed"
    },
    "tags": []
   },
   "outputs": [],
   "source": [
    "file_path = \"handled_missing.csv\"\n",
    "df_cleaned.to_csv(file_path, index=False)"
   ]
  },
  {
   "cell_type": "code",
   "execution_count": 11,
   "id": "90b8c08e",
   "metadata": {
    "execution": {
     "iopub.execute_input": "2025-01-08T06:46:09.911537Z",
     "iopub.status.busy": "2025-01-08T06:46:09.911147Z",
     "iopub.status.idle": "2025-01-08T06:46:10.120143Z",
     "shell.execute_reply": "2025-01-08T06:46:10.119006Z"
    },
    "papermill": {
     "duration": 0.216373,
     "end_time": "2025-01-08T06:46:10.122002",
     "exception": false,
     "start_time": "2025-01-08T06:46:09.905629",
     "status": "completed"
    },
    "tags": []
   },
   "outputs": [
    {
     "data": {
      "text/html": [
       "<div>\n",
       "<style scoped>\n",
       "    .dataframe tbody tr th:only-of-type {\n",
       "        vertical-align: middle;\n",
       "    }\n",
       "\n",
       "    .dataframe tbody tr th {\n",
       "        vertical-align: top;\n",
       "    }\n",
       "\n",
       "    .dataframe thead th {\n",
       "        text-align: right;\n",
       "    }\n",
       "</style>\n",
       "<table border=\"1\" class=\"dataframe\">\n",
       "  <thead>\n",
       "    <tr style=\"text-align: right;\">\n",
       "      <th></th>\n",
       "      <th>id</th>\n",
       "      <th>list_id</th>\n",
       "      <th>list_time</th>\n",
       "      <th>manufacture_date</th>\n",
       "      <th>brand</th>\n",
       "      <th>model</th>\n",
       "      <th>origin</th>\n",
       "      <th>type</th>\n",
       "      <th>seats</th>\n",
       "      <th>gearbox</th>\n",
       "      <th>fuel</th>\n",
       "      <th>color</th>\n",
       "      <th>mileage_v2</th>\n",
       "      <th>price</th>\n",
       "      <th>condition</th>\n",
       "    </tr>\n",
       "  </thead>\n",
       "  <tbody>\n",
       "    <tr>\n",
       "      <th>0</th>\n",
       "      <td>148468232</td>\n",
       "      <td>108616925</td>\n",
       "      <td>1693378633111</td>\n",
       "      <td>1980</td>\n",
       "      <td>Jeep</td>\n",
       "      <td>A2</td>\n",
       "      <td>Mỹ</td>\n",
       "      <td>SUV / Cross over</td>\n",
       "      <td>4.0</td>\n",
       "      <td>MT</td>\n",
       "      <td>petrol</td>\n",
       "      <td>green</td>\n",
       "      <td>40000</td>\n",
       "      <td>380000000.0</td>\n",
       "      <td>used</td>\n",
       "    </tr>\n",
       "    <tr>\n",
       "      <th>1</th>\n",
       "      <td>149864917</td>\n",
       "      <td>109805135</td>\n",
       "      <td>1694308247000</td>\n",
       "      <td>2021</td>\n",
       "      <td>Honda</td>\n",
       "      <td>City</td>\n",
       "      <td>Nhật Bản</td>\n",
       "      <td>Sedan</td>\n",
       "      <td>5.0</td>\n",
       "      <td>AT</td>\n",
       "      <td>petrol</td>\n",
       "      <td>white</td>\n",
       "      <td>23000</td>\n",
       "      <td>455000000.0</td>\n",
       "      <td>used</td>\n",
       "    </tr>\n",
       "    <tr>\n",
       "      <th>2</th>\n",
       "      <td>149580046</td>\n",
       "      <td>109560282</td>\n",
       "      <td>1693462201000</td>\n",
       "      <td>2016</td>\n",
       "      <td>Kia</td>\n",
       "      <td>Rio</td>\n",
       "      <td>Hàn Quốc</td>\n",
       "      <td>Sedan</td>\n",
       "      <td>5.0</td>\n",
       "      <td>AT</td>\n",
       "      <td>petrol</td>\n",
       "      <td>white</td>\n",
       "      <td>78545</td>\n",
       "      <td>295000000.0</td>\n",
       "      <td>used</td>\n",
       "    </tr>\n",
       "    <tr>\n",
       "      <th>3</th>\n",
       "      <td>148601679</td>\n",
       "      <td>108727914</td>\n",
       "      <td>1693493126176</td>\n",
       "      <td>2020</td>\n",
       "      <td>Toyota</td>\n",
       "      <td>Vios</td>\n",
       "      <td>Việt Nam</td>\n",
       "      <td>Sedan</td>\n",
       "      <td>5.0</td>\n",
       "      <td>MT</td>\n",
       "      <td>petrol</td>\n",
       "      <td>white</td>\n",
       "      <td>99999</td>\n",
       "      <td>368000000.0</td>\n",
       "      <td>used</td>\n",
       "    </tr>\n",
       "    <tr>\n",
       "      <th>4</th>\n",
       "      <td>149530234</td>\n",
       "      <td>109517456</td>\n",
       "      <td>1693313503000</td>\n",
       "      <td>2001</td>\n",
       "      <td>Fiat</td>\n",
       "      <td>Siena</td>\n",
       "      <td>Việt Nam</td>\n",
       "      <td>Sedan</td>\n",
       "      <td>5.0</td>\n",
       "      <td>MT</td>\n",
       "      <td>petrol</td>\n",
       "      <td>white</td>\n",
       "      <td>200000</td>\n",
       "      <td>73000000.0</td>\n",
       "      <td>used</td>\n",
       "    </tr>\n",
       "  </tbody>\n",
       "</table>\n",
       "</div>"
      ],
      "text/plain": [
       "          id    list_id      list_time  manufacture_date   brand  model  \\\n",
       "0  148468232  108616925  1693378633111              1980    Jeep     A2   \n",
       "1  149864917  109805135  1694308247000              2021   Honda   City   \n",
       "2  149580046  109560282  1693462201000              2016     Kia    Rio   \n",
       "3  148601679  108727914  1693493126176              2020  Toyota   Vios   \n",
       "4  149530234  109517456  1693313503000              2001    Fiat  Siena   \n",
       "\n",
       "     origin              type  seats gearbox    fuel  color  mileage_v2  \\\n",
       "0        Mỹ  SUV / Cross over    4.0      MT  petrol  green       40000   \n",
       "1  Nhật Bản             Sedan    5.0      AT  petrol  white       23000   \n",
       "2  Hàn Quốc             Sedan    5.0      AT  petrol  white       78545   \n",
       "3  Việt Nam             Sedan    5.0      MT  petrol  white       99999   \n",
       "4  Việt Nam             Sedan    5.0      MT  petrol  white      200000   \n",
       "\n",
       "         price condition  \n",
       "0  380000000.0      used  \n",
       "1  455000000.0      used  \n",
       "2  295000000.0      used  \n",
       "3  368000000.0      used  \n",
       "4   73000000.0      used  "
      ]
     },
     "execution_count": 11,
     "metadata": {},
     "output_type": "execute_result"
    }
   ],
   "source": [
    "test = pd.read_csv(file_path)\n",
    "test.head()"
   ]
  },
  {
   "cell_type": "code",
   "execution_count": null,
   "id": "75b770b1",
   "metadata": {
    "papermill": {
     "duration": 0.004428,
     "end_time": "2025-01-08T06:46:10.131389",
     "exception": false,
     "start_time": "2025-01-08T06:46:10.126961",
     "status": "completed"
    },
    "tags": []
   },
   "outputs": [],
   "source": []
  }
 ],
 "metadata": {
  "kaggle": {
   "accelerator": "none",
   "dataSources": [
    {
     "datasetId": 6441052,
     "sourceId": 10395661,
     "sourceType": "datasetVersion"
    },
    {
     "sourceId": 216604801,
     "sourceType": "kernelVersion"
    }
   ],
   "dockerImageVersionId": 30822,
   "isGpuEnabled": false,
   "isInternetEnabled": true,
   "language": "python",
   "sourceType": "notebook"
  },
  "kernelspec": {
   "display_name": "Python 3",
   "language": "python",
   "name": "python3"
  },
  "language_info": {
   "codemirror_mode": {
    "name": "ipython",
    "version": 3
   },
   "file_extension": ".py",
   "mimetype": "text/x-python",
   "name": "python",
   "nbconvert_exporter": "python",
   "pygments_lexer": "ipython3",
   "version": "3.10.12"
  },
  "papermill": {
   "default_parameters": {},
   "duration": 13.999826,
   "end_time": "2025-01-08T06:46:10.757329",
   "environment_variables": {},
   "exception": null,
   "input_path": "__notebook__.ipynb",
   "output_path": "__notebook__.ipynb",
   "parameters": {},
   "start_time": "2025-01-08T06:45:56.757503",
   "version": "2.6.0"
  }
 },
 "nbformat": 4,
 "nbformat_minor": 5
}
