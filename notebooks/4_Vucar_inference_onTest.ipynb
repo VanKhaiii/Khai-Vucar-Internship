{
 "cells": [
  {
   "cell_type": "markdown",
   "id": "e1422224",
   "metadata": {
    "papermill": {
     "duration": 0.004237,
     "end_time": "2025-01-09T14:21:40.609697",
     "exception": false,
     "start_time": "2025-01-09T14:21:40.605460",
     "status": "completed"
    },
    "tags": []
   },
   "source": [
    "# I. Load preprocessor for processing Test Set"
   ]
  },
  {
   "cell_type": "code",
   "execution_count": 1,
   "id": "853a5d53",
   "metadata": {
    "execution": {
     "iopub.execute_input": "2025-01-09T14:21:40.617476Z",
     "iopub.status.busy": "2025-01-09T14:21:40.617104Z",
     "iopub.status.idle": "2025-01-09T14:21:42.501632Z",
     "shell.execute_reply": "2025-01-09T14:21:42.500527Z"
    },
    "papermill": {
     "duration": 1.890659,
     "end_time": "2025-01-09T14:21:42.503759",
     "exception": false,
     "start_time": "2025-01-09T14:21:40.613100",
     "status": "completed"
    },
    "tags": []
   },
   "outputs": [
    {
     "name": "stdout",
     "output_type": "stream",
     "text": [
      "Preprocessor loaded successfully.\n"
     ]
    }
   ],
   "source": [
    "import joblib\n",
    "import os\n",
    "import pandas as pd\n",
    "\n",
    "preprocessor_file = \"/kaggle/input/vucar-used-car-price/preprocessor.pkl\"\n",
    "\n",
    "preprocessor = joblib.load(preprocessor_file)\n",
    "print(\"Preprocessor loaded successfully.\")"
   ]
  },
  {
   "cell_type": "code",
   "execution_count": 2,
   "id": "c6230974",
   "metadata": {
    "execution": {
     "iopub.execute_input": "2025-01-09T14:21:42.511466Z",
     "iopub.status.busy": "2025-01-09T14:21:42.511006Z",
     "iopub.status.idle": "2025-01-09T14:21:42.573331Z",
     "shell.execute_reply": "2025-01-09T14:21:42.572281Z"
    },
    "papermill": {
     "duration": 0.068107,
     "end_time": "2025-01-09T14:21:42.575171",
     "exception": false,
     "start_time": "2025-01-09T14:21:42.507064",
     "status": "completed"
    },
    "tags": []
   },
   "outputs": [
    {
     "data": {
      "text/html": [
       "<div>\n",
       "<style scoped>\n",
       "    .dataframe tbody tr th:only-of-type {\n",
       "        vertical-align: middle;\n",
       "    }\n",
       "\n",
       "    .dataframe tbody tr th {\n",
       "        vertical-align: top;\n",
       "    }\n",
       "\n",
       "    .dataframe thead th {\n",
       "        text-align: right;\n",
       "    }\n",
       "</style>\n",
       "<table border=\"1\" class=\"dataframe\">\n",
       "  <thead>\n",
       "    <tr style=\"text-align: right;\">\n",
       "      <th></th>\n",
       "      <th>list_time</th>\n",
       "      <th>manufacture_date</th>\n",
       "      <th>seats</th>\n",
       "      <th>mileage_v2</th>\n",
       "      <th>Vehicle_Age</th>\n",
       "      <th>Mileage_per_Year</th>\n",
       "      <th>milage_with_age</th>\n",
       "      <th>Mileage_per_Year_with_age</th>\n",
       "      <th>Is_Luxury_Brand</th>\n",
       "      <th>brand</th>\n",
       "      <th>model</th>\n",
       "      <th>origin</th>\n",
       "      <th>type</th>\n",
       "      <th>gearbox</th>\n",
       "      <th>fuel</th>\n",
       "      <th>color</th>\n",
       "    </tr>\n",
       "  </thead>\n",
       "  <tbody>\n",
       "    <tr>\n",
       "      <th>0</th>\n",
       "      <td>1.695907e+12</td>\n",
       "      <td>2014.0</td>\n",
       "      <td>5.0</td>\n",
       "      <td>109000.0</td>\n",
       "      <td>10.0</td>\n",
       "      <td>10900.000000</td>\n",
       "      <td>108892.452089</td>\n",
       "      <td>10889.245209</td>\n",
       "      <td>0.0</td>\n",
       "      <td>5.0</td>\n",
       "      <td>150.0</td>\n",
       "      <td>0.0</td>\n",
       "      <td>7.0</td>\n",
       "      <td>1.0</td>\n",
       "      <td>3.0</td>\n",
       "      <td>9.0</td>\n",
       "    </tr>\n",
       "    <tr>\n",
       "      <th>1</th>\n",
       "      <td>1.698111e+12</td>\n",
       "      <td>2009.0</td>\n",
       "      <td>5.0</td>\n",
       "      <td>150000.0</td>\n",
       "      <td>15.0</td>\n",
       "      <td>10000.000000</td>\n",
       "      <td>111450.748750</td>\n",
       "      <td>7430.049917</td>\n",
       "      <td>0.0</td>\n",
       "      <td>5.0</td>\n",
       "      <td>113.0</td>\n",
       "      <td>0.0</td>\n",
       "      <td>7.0</td>\n",
       "      <td>2.0</td>\n",
       "      <td>3.0</td>\n",
       "      <td>10.0</td>\n",
       "    </tr>\n",
       "    <tr>\n",
       "      <th>2</th>\n",
       "      <td>1.697098e+12</td>\n",
       "      <td>2021.0</td>\n",
       "      <td>7.0</td>\n",
       "      <td>19500.0</td>\n",
       "      <td>3.0</td>\n",
       "      <td>6500.000000</td>\n",
       "      <td>35552.505246</td>\n",
       "      <td>11850.835082</td>\n",
       "      <td>0.0</td>\n",
       "      <td>8.0</td>\n",
       "      <td>192.0</td>\n",
       "      <td>4.0</td>\n",
       "      <td>6.0</td>\n",
       "      <td>1.0</td>\n",
       "      <td>2.0</td>\n",
       "      <td>11.0</td>\n",
       "    </tr>\n",
       "    <tr>\n",
       "      <th>3</th>\n",
       "      <td>1.696326e+12</td>\n",
       "      <td>2016.0</td>\n",
       "      <td>5.0</td>\n",
       "      <td>250000.0</td>\n",
       "      <td>8.0</td>\n",
       "      <td>31250.000000</td>\n",
       "      <td>83965.389875</td>\n",
       "      <td>10495.673734</td>\n",
       "      <td>0.0</td>\n",
       "      <td>4.0</td>\n",
       "      <td>134.0</td>\n",
       "      <td>9.0</td>\n",
       "      <td>1.0</td>\n",
       "      <td>2.0</td>\n",
       "      <td>3.0</td>\n",
       "      <td>11.0</td>\n",
       "    </tr>\n",
       "    <tr>\n",
       "      <th>4</th>\n",
       "      <td>1.696736e+12</td>\n",
       "      <td>2017.0</td>\n",
       "      <td>5.0</td>\n",
       "      <td>87000.0</td>\n",
       "      <td>7.0</td>\n",
       "      <td>12428.571429</td>\n",
       "      <td>82683.072855</td>\n",
       "      <td>11811.867551</td>\n",
       "      <td>0.0</td>\n",
       "      <td>2.0</td>\n",
       "      <td>206.0</td>\n",
       "      <td>4.0</td>\n",
       "      <td>5.0</td>\n",
       "      <td>1.0</td>\n",
       "      <td>2.0</td>\n",
       "      <td>11.0</td>\n",
       "    </tr>\n",
       "  </tbody>\n",
       "</table>\n",
       "</div>"
      ],
      "text/plain": [
       "      list_time  manufacture_date  seats  mileage_v2  Vehicle_Age  \\\n",
       "0  1.695907e+12            2014.0    5.0    109000.0         10.0   \n",
       "1  1.698111e+12            2009.0    5.0    150000.0         15.0   \n",
       "2  1.697098e+12            2021.0    7.0     19500.0          3.0   \n",
       "3  1.696326e+12            2016.0    5.0    250000.0          8.0   \n",
       "4  1.696736e+12            2017.0    5.0     87000.0          7.0   \n",
       "\n",
       "   Mileage_per_Year  milage_with_age  Mileage_per_Year_with_age  \\\n",
       "0      10900.000000    108892.452089               10889.245209   \n",
       "1      10000.000000    111450.748750                7430.049917   \n",
       "2       6500.000000     35552.505246               11850.835082   \n",
       "3      31250.000000     83965.389875               10495.673734   \n",
       "4      12428.571429     82683.072855               11811.867551   \n",
       "\n",
       "   Is_Luxury_Brand  brand  model  origin  type  gearbox  fuel  color  \n",
       "0              0.0    5.0  150.0     0.0   7.0      1.0   3.0    9.0  \n",
       "1              0.0    5.0  113.0     0.0   7.0      2.0   3.0   10.0  \n",
       "2              0.0    8.0  192.0     4.0   6.0      1.0   2.0   11.0  \n",
       "3              0.0    4.0  134.0     9.0   1.0      2.0   3.0   11.0  \n",
       "4              0.0    2.0  206.0     4.0   5.0      1.0   2.0   11.0  "
      ]
     },
     "execution_count": 2,
     "metadata": {},
     "output_type": "execute_result"
    }
   ],
   "source": [
    "X_test = pd.read_csv(\"/kaggle/input/vucar-used-car-price/X_test.csv\")\n",
    "X_test.head()"
   ]
  },
  {
   "cell_type": "code",
   "execution_count": 3,
   "id": "8d9e0bfc",
   "metadata": {
    "execution": {
     "iopub.execute_input": "2025-01-09T14:21:42.583280Z",
     "iopub.status.busy": "2025-01-09T14:21:42.582918Z",
     "iopub.status.idle": "2025-01-09T14:21:42.598491Z",
     "shell.execute_reply": "2025-01-09T14:21:42.597279Z"
    },
    "papermill": {
     "duration": 0.02164,
     "end_time": "2025-01-09T14:21:42.600358",
     "exception": false,
     "start_time": "2025-01-09T14:21:42.578718",
     "status": "completed"
    },
    "tags": []
   },
   "outputs": [
    {
     "data": {
      "text/html": [
       "<div>\n",
       "<style scoped>\n",
       "    .dataframe tbody tr th:only-of-type {\n",
       "        vertical-align: middle;\n",
       "    }\n",
       "\n",
       "    .dataframe tbody tr th {\n",
       "        vertical-align: top;\n",
       "    }\n",
       "\n",
       "    .dataframe thead th {\n",
       "        text-align: right;\n",
       "    }\n",
       "</style>\n",
       "<table border=\"1\" class=\"dataframe\">\n",
       "  <thead>\n",
       "    <tr style=\"text-align: right;\">\n",
       "      <th></th>\n",
       "      <th>price</th>\n",
       "    </tr>\n",
       "  </thead>\n",
       "  <tbody>\n",
       "    <tr>\n",
       "      <th>0</th>\n",
       "      <td>3.580000e+08</td>\n",
       "    </tr>\n",
       "    <tr>\n",
       "      <th>1</th>\n",
       "      <td>1.900000e+08</td>\n",
       "    </tr>\n",
       "    <tr>\n",
       "      <th>2</th>\n",
       "      <td>1.130000e+09</td>\n",
       "    </tr>\n",
       "    <tr>\n",
       "      <th>3</th>\n",
       "      <td>2.000000e+08</td>\n",
       "    </tr>\n",
       "    <tr>\n",
       "      <th>4</th>\n",
       "      <td>6.550000e+08</td>\n",
       "    </tr>\n",
       "  </tbody>\n",
       "</table>\n",
       "</div>"
      ],
      "text/plain": [
       "          price\n",
       "0  3.580000e+08\n",
       "1  1.900000e+08\n",
       "2  1.130000e+09\n",
       "3  2.000000e+08\n",
       "4  6.550000e+08"
      ]
     },
     "execution_count": 3,
     "metadata": {},
     "output_type": "execute_result"
    }
   ],
   "source": [
    "y_test = pd.read_csv(\"/kaggle/input/vucar-used-car-price/y_test.csv\")\n",
    "y_test.head()"
   ]
  },
  {
   "cell_type": "markdown",
   "id": "a1426a20",
   "metadata": {
    "papermill": {
     "duration": 0.003337,
     "end_time": "2025-01-09T14:21:42.607664",
     "exception": false,
     "start_time": "2025-01-09T14:21:42.604327",
     "status": "completed"
    },
    "tags": []
   },
   "source": [
    "# II. Load Pretrained Models"
   ]
  },
  {
   "cell_type": "code",
   "execution_count": 4,
   "id": "93724708",
   "metadata": {
    "execution": {
     "iopub.execute_input": "2025-01-09T14:21:42.616429Z",
     "iopub.status.busy": "2025-01-09T14:21:42.616036Z",
     "iopub.status.idle": "2025-01-09T14:21:46.371591Z",
     "shell.execute_reply": "2025-01-09T14:21:46.370274Z"
    },
    "papermill": {
     "duration": 3.7621,
     "end_time": "2025-01-09T14:21:46.373452",
     "exception": false,
     "start_time": "2025-01-09T14:21:42.611352",
     "status": "completed"
    },
    "tags": []
   },
   "outputs": [
    {
     "name": "stdout",
     "output_type": "stream",
     "text": [
      "Loaded 5 CatBoost models.\n",
      "Loaded 5 LightGBM models.\n"
     ]
    }
   ],
   "source": [
    "model_dir = \"/kaggle/input/vucar-used-car-price\"\n",
    "\n",
    "catboost_models = []\n",
    "lgb_models = []\n",
    "\n",
    "for file_name in os.listdir(model_dir):\n",
    "    file_path = os.path.join(model_dir, file_name)\n",
    "    \n",
    "    if file_name.startswith(\"catboost_model\") and file_name.endswith(\".joblib\"):\n",
    "        catboost_models.append(joblib.load(file_path))\n",
    "    elif file_name.startswith(\"lgb_model\") and file_name.endswith(\".joblib\"):\n",
    "        lgb_models.append(joblib.load(file_path))\n",
    "\n",
    "print(f\"Loaded {len(catboost_models)} CatBoost models.\")\n",
    "print(f\"Loaded {len(lgb_models)} LightGBM models.\")"
   ]
  },
  {
   "cell_type": "markdown",
   "id": "8ae0c713",
   "metadata": {
    "papermill": {
     "duration": 0.003332,
     "end_time": "2025-01-09T14:21:46.380541",
     "exception": false,
     "start_time": "2025-01-09T14:21:46.377209",
     "status": "completed"
    },
    "tags": []
   },
   "source": [
    "# III. Voting Ensemble"
   ]
  },
  {
   "cell_type": "code",
   "execution_count": 5,
   "id": "ca075631",
   "metadata": {
    "execution": {
     "iopub.execute_input": "2025-01-09T14:21:46.389363Z",
     "iopub.status.busy": "2025-01-09T14:21:46.388664Z",
     "iopub.status.idle": "2025-01-09T14:21:46.396808Z",
     "shell.execute_reply": "2025-01-09T14:21:46.395609Z"
    },
    "papermill": {
     "duration": 0.014565,
     "end_time": "2025-01-09T14:21:46.398640",
     "exception": false,
     "start_time": "2025-01-09T14:21:46.384075",
     "status": "completed"
    },
    "tags": []
   },
   "outputs": [],
   "source": [
    "import numpy as np\n",
    "from sklearn.base import BaseEstimator, RegressorMixin\n",
    "from sklearn.metrics import mean_absolute_error\n",
    "\n",
    "class VotingModel(BaseEstimator, RegressorMixin):\n",
    "    def __init__(self, estimators):\n",
    "        super().__init__()\n",
    "        self.estimators = estimators\n",
    "        print(f\"Loaded {len(estimators)} estimators for ensemble.\")\n",
    "\n",
    "    def predict(self, dataframe):\n",
    "        \"\"\"\n",
    "        Predict using the average of predictions from all estimators.\n",
    "        \"\"\"\n",
    "        y_preds = [estimator.predict(dataframe) for estimator in self.estimators]\n",
    "        return np.mean(y_preds, axis=0)\n",
    "\n",
    "    def predict_chunked(self, dataframe, chunk_size=1000):\n",
    "        \"\"\"\n",
    "        Predict in chunks to handle large datasets.\n",
    "        \"\"\"\n",
    "        n = len(dataframe)\n",
    "        chunk_preds = []\n",
    "        for i in range(0, n, chunk_size):\n",
    "            chunk = dataframe[i:i + chunk_size]\n",
    "            y_preds_chunk = [estimator.predict(chunk) for estimator in self.estimators]\n",
    "            chunk_mean = np.mean(y_preds_chunk, axis=0)\n",
    "            chunk_preds.extend(chunk_mean)\n",
    "        return np.array(chunk_preds)"
   ]
  },
  {
   "cell_type": "code",
   "execution_count": 6,
   "id": "9bddfff4",
   "metadata": {
    "execution": {
     "iopub.execute_input": "2025-01-09T14:21:46.407265Z",
     "iopub.status.busy": "2025-01-09T14:21:46.406858Z",
     "iopub.status.idle": "2025-01-09T14:21:46.440068Z",
     "shell.execute_reply": "2025-01-09T14:21:46.438711Z"
    },
    "papermill": {
     "duration": 0.039564,
     "end_time": "2025-01-09T14:21:46.441946",
     "exception": false,
     "start_time": "2025-01-09T14:21:46.402382",
     "status": "completed"
    },
    "tags": []
   },
   "outputs": [
    {
     "name": "stdout",
     "output_type": "stream",
     "text": [
      "Loaded 10 estimators for ensemble.\n"
     ]
    }
   ],
   "source": [
    "fitted_models = catboost_models + lgb_models\n",
    "\n",
    "model = VotingModel(fitted_models)\n",
    "\n",
    "X_test = preprocessor.transform(X_test)\n",
    "y_test = y_test"
   ]
  },
  {
   "cell_type": "markdown",
   "id": "a215fdee",
   "metadata": {
    "papermill": {
     "duration": 0.003496,
     "end_time": "2025-01-09T14:21:46.449550",
     "exception": false,
     "start_time": "2025-01-09T14:21:46.446054",
     "status": "completed"
    },
    "tags": []
   },
   "source": [
    "# IV. Inference"
   ]
  },
  {
   "cell_type": "code",
   "execution_count": 7,
   "id": "9bc78ac9",
   "metadata": {
    "execution": {
     "iopub.execute_input": "2025-01-09T14:21:46.458760Z",
     "iopub.status.busy": "2025-01-09T14:21:46.458360Z",
     "iopub.status.idle": "2025-01-09T14:21:47.287559Z",
     "shell.execute_reply": "2025-01-09T14:21:47.286275Z"
    },
    "papermill": {
     "duration": 0.836043,
     "end_time": "2025-01-09T14:21:47.289733",
     "exception": false,
     "start_time": "2025-01-09T14:21:46.453690",
     "status": "completed"
    },
    "tags": []
   },
   "outputs": [
    {
     "name": "stdout",
     "output_type": "stream",
     "text": [
      "Mean Absolute Error (MAE) of the ensemble: 253377168.5942\n"
     ]
    }
   ],
   "source": [
    "final_predictions = model.predict(X_test)\n",
    "\n",
    "mae_score = mean_absolute_error(y_test, final_predictions)\n",
    "print(f\"Mean Absolute Error (MAE) of the ensemble: {mae_score:.4f}\")"
   ]
  },
  {
   "cell_type": "code",
   "execution_count": null,
   "id": "a5d7b6e9",
   "metadata": {
    "papermill": {
     "duration": 0.003448,
     "end_time": "2025-01-09T14:21:47.297094",
     "exception": false,
     "start_time": "2025-01-09T14:21:47.293646",
     "status": "completed"
    },
    "tags": []
   },
   "outputs": [],
   "source": []
  }
 ],
 "metadata": {
  "kaggle": {
   "accelerator": "none",
   "dataSources": [
    {
     "sourceId": 216793161,
     "sourceType": "kernelVersion"
    }
   ],
   "dockerImageVersionId": 30822,
   "isGpuEnabled": false,
   "isInternetEnabled": true,
   "language": "python",
   "sourceType": "notebook"
  },
  "kernelspec": {
   "display_name": "Python 3",
   "language": "python",
   "name": "python3"
  },
  "language_info": {
   "codemirror_mode": {
    "name": "ipython",
    "version": 3
   },
   "file_extension": ".py",
   "mimetype": "text/x-python",
   "name": "python",
   "nbconvert_exporter": "python",
   "pygments_lexer": "ipython3",
   "version": "3.10.12"
  },
  "papermill": {
   "default_parameters": {},
   "duration": 9.846248,
   "end_time": "2025-01-09T14:21:48.222080",
   "environment_variables": {},
   "exception": null,
   "input_path": "__notebook__.ipynb",
   "output_path": "__notebook__.ipynb",
   "parameters": {},
   "start_time": "2025-01-09T14:21:38.375832",
   "version": "2.6.0"
  }
 },
 "nbformat": 4,
 "nbformat_minor": 5
}
